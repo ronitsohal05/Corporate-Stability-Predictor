{
  "nbformat": 4,
  "nbformat_minor": 0,
  "metadata": {
    "colab": {
      "provenance": []
    },
    "kernelspec": {
      "name": "python3",
      "display_name": "Python 3"
    },
    "language_info": {
      "name": "python"
    }
  },
  "cells": [
    {
      "cell_type": "markdown",
      "source": [
        "Mounting to drives"
      ],
      "metadata": {
        "id": "iFtOfYim1bxH"
      }
    },
    {
      "cell_type": "code",
      "metadata": {
        "id": "8d3RH_mti6zR",
        "colab": {
          "base_uri": "https://localhost:8080/"
        },
        "outputId": "a2a8331e-ffdf-41ff-8264-12a66e99ffcf"
      },
      "source": [
        "from google.colab import drive\n",
        "drive.mount('/content/drive', force_remount=True)"
      ],
      "execution_count": null,
      "outputs": [
        {
          "output_type": "stream",
          "name": "stdout",
          "text": [
            "Mounted at /content/drive\n"
          ]
        }
      ]
    },
    {
      "cell_type": "markdown",
      "source": [
        "loading in packages"
      ],
      "metadata": {
        "id": "USyYEfUy1fIt"
      }
    },
    {
      "cell_type": "code",
      "source": [
        "import pandas as pd\n",
        "import numpy as np\n",
        "import matplotlib\n",
        "import matplotlib.pyplot as plt\n",
        "import csv\n",
        "import seaborn as seaborn"
      ],
      "metadata": {
        "id": "5H3TAcPO1h4E"
      },
      "execution_count": null,
      "outputs": []
    },
    {
      "cell_type": "code",
      "source": [
        "from sklearn.metrics import mean_squared_error, plot_confusion_matrix, f1_score, classification_report, roc_curve, auc, roc_auc_score\n"
      ],
      "metadata": {
        "id": "wZ56nIlbZOXv"
      },
      "execution_count": null,
      "outputs": []
    },
    {
      "cell_type": "code",
      "source": [
        "# Ticker\n",
        "# SimFinId_x\n",
        "# Currency_x\n",
        "# Fiscal Year\t- one year period of time that a company uses for accounting purposes/preperation of financial statements\n",
        "# Fiscal Period_x\t- special period for previous year\n",
        "# Report Date_x\t- irrelevant seemingly\n",
        "# Publish Date_x\t- irrelevant seemingly\n",
        "# Restated Date_x - irrelevant seemingly\n",
        "# Shares (Basic)_x\t- stock held by all shareholders\n",
        "# Shares (Diluted)_x\t- total shares if the convertible securities (security that can be converted into a different security. A security is any financial instrument with money value) of a company were performed\n",
        "# Revenue\t- Revenue is the total income a company is able to generate in a period\n",
        "# Cost of Revenue\t- the total cost of manufacturing and delivering a product or service to consumers. The cost of getting the revenue\n",
        "# Gross Profit - profit basically\n",
        "# Operating Expenses\n",
        "# Selling General & Administrative\t- costs of doing business\n",
        "# Research & Development\t- i\n",
        "# Depreciation & Amortization_x\n",
        "#Operating  Income (Loss)\t- takes a company's gross income and subtracts all operating expenses\n",
        "# Non-Operating Income (Loss)\t- portion of org's income that is derived from activities not related to core business operations\n",
        "# Interest Expense Net\t- interest expense minus interest income\n",
        "# Pretax Income (Loss) - net income earned by business before taxes are accounted for\n",
        "# Adj.\tAbnormal Gains (Losses)\t- if actual production units are more than anticipated units after deducting normal loss. Difference is abnormal gain. Basically the R coefficient lol.\n",
        "# Pretax Income (Loss)\t-\n",
        "# Income Tax (Expense)\n",
        "# Benefit Net\tIncome (Loss) from Continuing Operations\n",
        "# Net Extraordinary Gains (Losses)\n",
        "# Net Income\t- sales minus cost of goods sold\n",
        "# Net Income (Common)\n",
        "# Net Income\n",
        "# SimFinId_y\n",
        "# Currency_y\n",
        "# Fiscal Period_y\n",
        "# Report Date_y\n",
        "# Publish Date_y\n",
        "# Restated Date_y\n",
        "# Shares (Basic)_y\n",
        "# Shares (Diluted)_y\n",
        "# Cash\n",
        "# Cash Equivalents & Short Term Investments\t- short term investment securities with maturity periods of 90 days or less\n",
        "# Accounts & Notes\n",
        "# Receivable\n",
        "# Inventories\t- all the items, goods, merchandise, and materials held by a business for selling in the market to earn a profit.\n",
        "# Total Current Assets\n",
        "# Property Plant & Equipment Net\t- long term assets vital to business operations\n",
        "# Long Term Investments & Receivables\t - receivables are the debts owed to a company due more than twelve months from last recorded date\n",
        "# Other Long Term Assets\n",
        "# Total Noncurrent Assets\tTotal Assets\n",
        "# Payables & Accruals\t- accruals are earned revenues and incurred expenses that have yet to be received or paid\n",
        "# Short Term Debt\n",
        "# Total Current Liabilities\n",
        "# Long Term Debt\n",
        "# Total Noncurrent Liabilities\n",
        "# Total Liabilities\tShare Capital & Additional Paid-In Capital\n",
        "# Treasury\n",
        "# Stock\n",
        "# Retained Earnings\n",
        "# Total Equity\n",
        "# Total Liabilities & Equity\n",
        "# SimFinId\n",
        "# Currency\n",
        "# Fiscal Period\n",
        "# Report Date\n",
        "# Publish Date\n",
        "# Restated Date\n",
        "# Shares (Basic)\n",
        "# Shares (Diluted)\n",
        "# Net Income/Starting Line\n",
        "# Depreciation & Amortization_y\n",
        "# Non-Cash Items\n",
        "# Change in Working - net affect on cash flows of adding/subtracting from current assets and current liabilities.\n",
        "# Capital\tChange in Accounts -\n",
        "# Receivable\tChange in Inventories\t- increase/decrease in cash that cusotmers owe the company\n",
        "# Change in Accounts Payable\t- money owed by a company to its creditors.\n",
        "# Change in Other\tNet Cash from Operating Activities - basically the money that services the company performs gain\n",
        "# Change in Fixed Assets & Intangibles\t- fixed assets lose value as they age, tangible assets have periodic depreciation\n",
        "# Net Change in Long Term Investment\n",
        "# Net Cash from Acquisitions & Divestitures\t- divestiture is selling off subsidiary business interests/investments.\n",
        "# Net Cash from Investing Activities\t- cash flow statement that shows cash generated/spent relating to investment activities\n",
        "# Dividends Paid\t- payments a company makes to share profits with stockholders. https://www.nerdwallet.com/article/investing/what-are-dividends#:~:text=Dividends%20are%20payments%20a%20company,return%20from%20investing%20in%20stock.\n",
        "#^^^\n",
        "# Cash from (Repayment of) Debt\n",
        "# Cash from (Repurchase of) Equity\t= cash equity is the liquid portion of asset that can be converted to cash. This is calculating the amount of cash from the cash equity.\n",
        "# Net Cash from Financing Activities = amount of funding a company generates in a given time period\n",
        "# Net Change in Cash = difference between prior trading period's closing price and current trading period's closing price"
      ],
      "metadata": {
        "id": "HiM6GYow2uI6"
      },
      "execution_count": null,
      "outputs": []
    },
    {
      "cell_type": "markdown",
      "source": [
        "loading in data"
      ],
      "metadata": {
        "id": "TcRf2XWh1noy"
      }
    },
    {
      "cell_type": "code",
      "source": [
        "income = pd.read_csv('/content/drive/MyDrive/us-income-annual.csv')\n",
        "balance = pd.read_csv('/content/drive/MyDrive/us-balance-annual.csv')\n",
        "cashflow = pd.read_csv('/content/drive/MyDrive/us-cashflow-annual.csv')\n",
        "income.head()"
      ],
      "metadata": {
        "id": "fdl4uM-S1nOq",
        "colab": {
          "base_uri": "https://localhost:8080/",
          "height": 352
        },
        "outputId": "95855a55-d304-4ee1-b8ff-da6328a3db7a"
      },
      "execution_count": null,
      "outputs": [
        {
          "output_type": "execute_result",
          "data": {
            "text/plain": [
              "  Ticker  SimFinId Currency  Fiscal Year Fiscal Period Report Date  \\\n",
              "0      A     45846      USD         2016            FY  10/31/2016   \n",
              "1      A     45846      USD         2017            FY  10/31/2017   \n",
              "2      A     45846      USD         2018            FY  10/31/2018   \n",
              "3      A     45846      USD         2019            FY  10/31/2019   \n",
              "4      A     45846      USD         2020            FY  10/31/2020   \n",
              "\n",
              "  Publish Date Restated Date  Shares (Basic)  Shares (Diluted)  ...  \\\n",
              "0   12/20/2016    12/20/2018     326000000.0       329000000.0  ...   \n",
              "1   12/21/2017    12/20/2018     322000000.0       326000000.0  ...   \n",
              "2   12/20/2018    12/18/2020     321000000.0       325000000.0  ...   \n",
              "3   12/19/2019    12/17/2021     314000000.0       318000000.0  ...   \n",
              "4   12/18/2020    12/17/2021     309000000.0       312000000.0  ...   \n",
              "\n",
              "   Non-Operating Income (Loss)  Interest Expense  Net  \\\n",
              "0                  -71000000.0            -61000000.0   \n",
              "1                  -38000000.0            -57000000.0   \n",
              "2                   42000000.0            -37000000.0   \n",
              "3                  -22000000.0            -38000000.0   \n",
              "4                   -4000000.0            -70000000.0   \n",
              "\n",
              "   Pretax Income (Loss)  Adj.  Abnormal Gains (Losses)  Pretax Income (Loss)  \\\n",
              "0                 544000000.0                      NaN           544000000.0   \n",
              "1                 803000000.0                      NaN           803000000.0   \n",
              "2                 946000000.0                      NaN           946000000.0   \n",
              "3                 919000000.0                      NaN           919000000.0   \n",
              "4                 842000000.0                      NaN           842000000.0   \n",
              "\n",
              "   Income Tax (Expense) Benefit Net  Income (Loss) from Continuing Operations  \\\n",
              "0                       -82000000.0                              4.620000e+08   \n",
              "1                      -119000000.0                              6.840000e+08   \n",
              "2                      -630000000.0                              3.160000e+08   \n",
              "3                       152000000.0                              1.071000e+09   \n",
              "4                      -123000000.0                              7.190000e+08   \n",
              "\n",
              "   Net Extraordinary Gains (Losses)    Net Income  Net Income (Common)  \n",
              "0                               NaN  4.620000e+08         4.620000e+08  \n",
              "1                               NaN  6.840000e+08         6.840000e+08  \n",
              "2                               NaN  3.160000e+08         3.160000e+08  \n",
              "3                               NaN  1.071000e+09         1.071000e+09  \n",
              "4                               NaN  7.190000e+08         7.190000e+08  \n",
              "\n",
              "[5 rows x 28 columns]"
            ],
            "text/html": [
              "\n",
              "  <div id=\"df-dbac323b-db6c-4c2b-94a1-cac2abdf36a2\">\n",
              "    <div class=\"colab-df-container\">\n",
              "      <div>\n",
              "<style scoped>\n",
              "    .dataframe tbody tr th:only-of-type {\n",
              "        vertical-align: middle;\n",
              "    }\n",
              "\n",
              "    .dataframe tbody tr th {\n",
              "        vertical-align: top;\n",
              "    }\n",
              "\n",
              "    .dataframe thead th {\n",
              "        text-align: right;\n",
              "    }\n",
              "</style>\n",
              "<table border=\"1\" class=\"dataframe\">\n",
              "  <thead>\n",
              "    <tr style=\"text-align: right;\">\n",
              "      <th></th>\n",
              "      <th>Ticker</th>\n",
              "      <th>SimFinId</th>\n",
              "      <th>Currency</th>\n",
              "      <th>Fiscal Year</th>\n",
              "      <th>Fiscal Period</th>\n",
              "      <th>Report Date</th>\n",
              "      <th>Publish Date</th>\n",
              "      <th>Restated Date</th>\n",
              "      <th>Shares (Basic)</th>\n",
              "      <th>Shares (Diluted)</th>\n",
              "      <th>...</th>\n",
              "      <th>Non-Operating Income (Loss)</th>\n",
              "      <th>Interest Expense  Net</th>\n",
              "      <th>Pretax Income (Loss)  Adj.</th>\n",
              "      <th>Abnormal Gains (Losses)</th>\n",
              "      <th>Pretax Income (Loss)</th>\n",
              "      <th>Income Tax (Expense) Benefit Net</th>\n",
              "      <th>Income (Loss) from Continuing Operations</th>\n",
              "      <th>Net Extraordinary Gains (Losses)</th>\n",
              "      <th>Net Income</th>\n",
              "      <th>Net Income (Common)</th>\n",
              "    </tr>\n",
              "  </thead>\n",
              "  <tbody>\n",
              "    <tr>\n",
              "      <th>0</th>\n",
              "      <td>A</td>\n",
              "      <td>45846</td>\n",
              "      <td>USD</td>\n",
              "      <td>2016</td>\n",
              "      <td>FY</td>\n",
              "      <td>10/31/2016</td>\n",
              "      <td>12/20/2016</td>\n",
              "      <td>12/20/2018</td>\n",
              "      <td>326000000.0</td>\n",
              "      <td>329000000.0</td>\n",
              "      <td>...</td>\n",
              "      <td>-71000000.0</td>\n",
              "      <td>-61000000.0</td>\n",
              "      <td>544000000.0</td>\n",
              "      <td>NaN</td>\n",
              "      <td>544000000.0</td>\n",
              "      <td>-82000000.0</td>\n",
              "      <td>4.620000e+08</td>\n",
              "      <td>NaN</td>\n",
              "      <td>4.620000e+08</td>\n",
              "      <td>4.620000e+08</td>\n",
              "    </tr>\n",
              "    <tr>\n",
              "      <th>1</th>\n",
              "      <td>A</td>\n",
              "      <td>45846</td>\n",
              "      <td>USD</td>\n",
              "      <td>2017</td>\n",
              "      <td>FY</td>\n",
              "      <td>10/31/2017</td>\n",
              "      <td>12/21/2017</td>\n",
              "      <td>12/20/2018</td>\n",
              "      <td>322000000.0</td>\n",
              "      <td>326000000.0</td>\n",
              "      <td>...</td>\n",
              "      <td>-38000000.0</td>\n",
              "      <td>-57000000.0</td>\n",
              "      <td>803000000.0</td>\n",
              "      <td>NaN</td>\n",
              "      <td>803000000.0</td>\n",
              "      <td>-119000000.0</td>\n",
              "      <td>6.840000e+08</td>\n",
              "      <td>NaN</td>\n",
              "      <td>6.840000e+08</td>\n",
              "      <td>6.840000e+08</td>\n",
              "    </tr>\n",
              "    <tr>\n",
              "      <th>2</th>\n",
              "      <td>A</td>\n",
              "      <td>45846</td>\n",
              "      <td>USD</td>\n",
              "      <td>2018</td>\n",
              "      <td>FY</td>\n",
              "      <td>10/31/2018</td>\n",
              "      <td>12/20/2018</td>\n",
              "      <td>12/18/2020</td>\n",
              "      <td>321000000.0</td>\n",
              "      <td>325000000.0</td>\n",
              "      <td>...</td>\n",
              "      <td>42000000.0</td>\n",
              "      <td>-37000000.0</td>\n",
              "      <td>946000000.0</td>\n",
              "      <td>NaN</td>\n",
              "      <td>946000000.0</td>\n",
              "      <td>-630000000.0</td>\n",
              "      <td>3.160000e+08</td>\n",
              "      <td>NaN</td>\n",
              "      <td>3.160000e+08</td>\n",
              "      <td>3.160000e+08</td>\n",
              "    </tr>\n",
              "    <tr>\n",
              "      <th>3</th>\n",
              "      <td>A</td>\n",
              "      <td>45846</td>\n",
              "      <td>USD</td>\n",
              "      <td>2019</td>\n",
              "      <td>FY</td>\n",
              "      <td>10/31/2019</td>\n",
              "      <td>12/19/2019</td>\n",
              "      <td>12/17/2021</td>\n",
              "      <td>314000000.0</td>\n",
              "      <td>318000000.0</td>\n",
              "      <td>...</td>\n",
              "      <td>-22000000.0</td>\n",
              "      <td>-38000000.0</td>\n",
              "      <td>919000000.0</td>\n",
              "      <td>NaN</td>\n",
              "      <td>919000000.0</td>\n",
              "      <td>152000000.0</td>\n",
              "      <td>1.071000e+09</td>\n",
              "      <td>NaN</td>\n",
              "      <td>1.071000e+09</td>\n",
              "      <td>1.071000e+09</td>\n",
              "    </tr>\n",
              "    <tr>\n",
              "      <th>4</th>\n",
              "      <td>A</td>\n",
              "      <td>45846</td>\n",
              "      <td>USD</td>\n",
              "      <td>2020</td>\n",
              "      <td>FY</td>\n",
              "      <td>10/31/2020</td>\n",
              "      <td>12/18/2020</td>\n",
              "      <td>12/17/2021</td>\n",
              "      <td>309000000.0</td>\n",
              "      <td>312000000.0</td>\n",
              "      <td>...</td>\n",
              "      <td>-4000000.0</td>\n",
              "      <td>-70000000.0</td>\n",
              "      <td>842000000.0</td>\n",
              "      <td>NaN</td>\n",
              "      <td>842000000.0</td>\n",
              "      <td>-123000000.0</td>\n",
              "      <td>7.190000e+08</td>\n",
              "      <td>NaN</td>\n",
              "      <td>7.190000e+08</td>\n",
              "      <td>7.190000e+08</td>\n",
              "    </tr>\n",
              "  </tbody>\n",
              "</table>\n",
              "<p>5 rows × 28 columns</p>\n",
              "</div>\n",
              "      <button class=\"colab-df-convert\" onclick=\"convertToInteractive('df-dbac323b-db6c-4c2b-94a1-cac2abdf36a2')\"\n",
              "              title=\"Convert this dataframe to an interactive table.\"\n",
              "              style=\"display:none;\">\n",
              "        \n",
              "  <svg xmlns=\"http://www.w3.org/2000/svg\" height=\"24px\"viewBox=\"0 0 24 24\"\n",
              "       width=\"24px\">\n",
              "    <path d=\"M0 0h24v24H0V0z\" fill=\"none\"/>\n",
              "    <path d=\"M18.56 5.44l.94 2.06.94-2.06 2.06-.94-2.06-.94-.94-2.06-.94 2.06-2.06.94zm-11 1L8.5 8.5l.94-2.06 2.06-.94-2.06-.94L8.5 2.5l-.94 2.06-2.06.94zm10 10l.94 2.06.94-2.06 2.06-.94-2.06-.94-.94-2.06-.94 2.06-2.06.94z\"/><path d=\"M17.41 7.96l-1.37-1.37c-.4-.4-.92-.59-1.43-.59-.52 0-1.04.2-1.43.59L10.3 9.45l-7.72 7.72c-.78.78-.78 2.05 0 2.83L4 21.41c.39.39.9.59 1.41.59.51 0 1.02-.2 1.41-.59l7.78-7.78 2.81-2.81c.8-.78.8-2.07 0-2.86zM5.41 20L4 18.59l7.72-7.72 1.47 1.35L5.41 20z\"/>\n",
              "  </svg>\n",
              "      </button>\n",
              "      \n",
              "  <style>\n",
              "    .colab-df-container {\n",
              "      display:flex;\n",
              "      flex-wrap:wrap;\n",
              "      gap: 12px;\n",
              "    }\n",
              "\n",
              "    .colab-df-convert {\n",
              "      background-color: #E8F0FE;\n",
              "      border: none;\n",
              "      border-radius: 50%;\n",
              "      cursor: pointer;\n",
              "      display: none;\n",
              "      fill: #1967D2;\n",
              "      height: 32px;\n",
              "      padding: 0 0 0 0;\n",
              "      width: 32px;\n",
              "    }\n",
              "\n",
              "    .colab-df-convert:hover {\n",
              "      background-color: #E2EBFA;\n",
              "      box-shadow: 0px 1px 2px rgba(60, 64, 67, 0.3), 0px 1px 3px 1px rgba(60, 64, 67, 0.15);\n",
              "      fill: #174EA6;\n",
              "    }\n",
              "\n",
              "    [theme=dark] .colab-df-convert {\n",
              "      background-color: #3B4455;\n",
              "      fill: #D2E3FC;\n",
              "    }\n",
              "\n",
              "    [theme=dark] .colab-df-convert:hover {\n",
              "      background-color: #434B5C;\n",
              "      box-shadow: 0px 1px 3px 1px rgba(0, 0, 0, 0.15);\n",
              "      filter: drop-shadow(0px 1px 2px rgba(0, 0, 0, 0.3));\n",
              "      fill: #FFFFFF;\n",
              "    }\n",
              "  </style>\n",
              "\n",
              "      <script>\n",
              "        const buttonEl =\n",
              "          document.querySelector('#df-dbac323b-db6c-4c2b-94a1-cac2abdf36a2 button.colab-df-convert');\n",
              "        buttonEl.style.display =\n",
              "          google.colab.kernel.accessAllowed ? 'block' : 'none';\n",
              "\n",
              "        async function convertToInteractive(key) {\n",
              "          const element = document.querySelector('#df-dbac323b-db6c-4c2b-94a1-cac2abdf36a2');\n",
              "          const dataTable =\n",
              "            await google.colab.kernel.invokeFunction('convertToInteractive',\n",
              "                                                     [key], {});\n",
              "          if (!dataTable) return;\n",
              "\n",
              "          const docLinkHtml = 'Like what you see? Visit the ' +\n",
              "            '<a target=\"_blank\" href=https://colab.research.google.com/notebooks/data_table.ipynb>data table notebook</a>'\n",
              "            + ' to learn more about interactive tables.';\n",
              "          element.innerHTML = '';\n",
              "          dataTable['output_type'] = 'display_data';\n",
              "          await google.colab.output.renderOutput(dataTable, element);\n",
              "          const docLink = document.createElement('div');\n",
              "          docLink.innerHTML = docLinkHtml;\n",
              "          element.appendChild(docLink);\n",
              "        }\n",
              "      </script>\n",
              "    </div>\n",
              "  </div>\n",
              "  "
            ]
          },
          "metadata": {},
          "execution_count": 5
        }
      ]
    },
    {
      "cell_type": "markdown",
      "source": [
        "joinng financial statements"
      ],
      "metadata": {
        "id": "Rk3IeBqC1wiX"
      }
    },
    {
      "cell_type": "code",
      "source": [
        "df1 = income.merge(balance, left_on=['Ticker', 'Fiscal Year'], right_on=['Ticker', 'Fiscal Year']); df1.drop_duplicates()\n",
        "df2 = df1.merge(cashflow, left_on=['Ticker', 'Fiscal Year'], right_on=['Ticker', 'Fiscal Year']); df2.drop_duplicates()\n",
        "DATA = df2.copy()\n",
        "DATA.head()"
      ],
      "metadata": {
        "id": "kiwD40pr11bd",
        "colab": {
          "base_uri": "https://localhost:8080/",
          "height": 369
        },
        "outputId": "d2e51434-9731-4a5b-cdd8-6a003e9de52b"
      },
      "execution_count": null,
      "outputs": [
        {
          "output_type": "execute_result",
          "data": {
            "text/plain": [
              "  Ticker  SimFinId_x Currency_x  Fiscal Year Fiscal Period_x Report Date_x  \\\n",
              "0      A       45846        USD         2016              FY    10/31/2016   \n",
              "1      A       45846        USD         2017              FY    10/31/2017   \n",
              "2      A       45846        USD         2018              FY    10/31/2018   \n",
              "3      A       45846        USD         2019              FY    10/31/2019   \n",
              "4      A       45846        USD         2020              FY    10/31/2020   \n",
              "\n",
              "  Publish Date_x Restated Date_x  Shares (Basic)_x  Shares (Diluted)_x  ...  \\\n",
              "0     12/20/2016      12/20/2018       326000000.0         329000000.0  ...   \n",
              "1     12/21/2017      12/20/2018       322000000.0         326000000.0  ...   \n",
              "2     12/20/2018      12/18/2020       321000000.0         325000000.0  ...   \n",
              "3     12/19/2019      12/17/2021       314000000.0         318000000.0  ...   \n",
              "4     12/18/2020      12/17/2021       309000000.0         312000000.0  ...   \n",
              "\n",
              "   Net Cash from Operating Activities  Change in Fixed Assets & Intangibles  \\\n",
              "0                        7.930000e+08                          -139000000.0   \n",
              "1                        8.890000e+08                          -176000000.0   \n",
              "2                        1.087000e+09                          -176000000.0   \n",
              "3                        1.021000e+09                          -155000000.0   \n",
              "4                        9.210000e+08                          -118000000.0   \n",
              "\n",
              "   Net Change in Long Term Investment  \\\n",
              "0                           1000000.0   \n",
              "1                                 0.0   \n",
              "2                                 NaN   \n",
              "3                                 NaN   \n",
              "4                                 NaN   \n",
              "\n",
              "   Net Cash from Acquisitions & Divestitures  \\\n",
              "0                              -2.610000e+08   \n",
              "1                              -1.260000e+08   \n",
              "2                              -5.160000e+08   \n",
              "3                              -1.408000e+09   \n",
              "4                                        NaN   \n",
              "\n",
              "   Net Cash from Investing Activities  Dividends Paid  \\\n",
              "0                       -2.380000e+08    -150000000.0   \n",
              "1                       -3.050000e+08    -170000000.0   \n",
              "2                       -7.050000e+08    -191000000.0   \n",
              "3                       -1.590000e+09    -206000000.0   \n",
              "4                       -1.470000e+08    -222000000.0   \n",
              "\n",
              "   Cash from (Repayment of) Debt  Cash from (Repurchase of) Equity  \\\n",
              "0                    262000000.0                      -372000000.0   \n",
              "1                    110000000.0                      -128000000.0   \n",
              "2                   -210000000.0                      -366000000.0   \n",
              "3                    600000000.0                      -669000000.0   \n",
              "4                    -45000000.0                      -409000000.0   \n",
              "\n",
              "   Net Cash from Financing Activities  Net Change in Cash  \n",
              "0                        -268000000.0         286000000.0  \n",
              "1                        -202000000.0         389000000.0  \n",
              "2                        -797000000.0        -432000000.0  \n",
              "3                        -299000000.0        -866000000.0  \n",
              "4                        -717000000.0          59000000.0  \n",
              "\n",
              "[5 rows x 82 columns]"
            ],
            "text/html": [
              "\n",
              "  <div id=\"df-d035f207-b38d-4507-8965-7effeda632be\">\n",
              "    <div class=\"colab-df-container\">\n",
              "      <div>\n",
              "<style scoped>\n",
              "    .dataframe tbody tr th:only-of-type {\n",
              "        vertical-align: middle;\n",
              "    }\n",
              "\n",
              "    .dataframe tbody tr th {\n",
              "        vertical-align: top;\n",
              "    }\n",
              "\n",
              "    .dataframe thead th {\n",
              "        text-align: right;\n",
              "    }\n",
              "</style>\n",
              "<table border=\"1\" class=\"dataframe\">\n",
              "  <thead>\n",
              "    <tr style=\"text-align: right;\">\n",
              "      <th></th>\n",
              "      <th>Ticker</th>\n",
              "      <th>SimFinId_x</th>\n",
              "      <th>Currency_x</th>\n",
              "      <th>Fiscal Year</th>\n",
              "      <th>Fiscal Period_x</th>\n",
              "      <th>Report Date_x</th>\n",
              "      <th>Publish Date_x</th>\n",
              "      <th>Restated Date_x</th>\n",
              "      <th>Shares (Basic)_x</th>\n",
              "      <th>Shares (Diluted)_x</th>\n",
              "      <th>...</th>\n",
              "      <th>Net Cash from Operating Activities</th>\n",
              "      <th>Change in Fixed Assets &amp; Intangibles</th>\n",
              "      <th>Net Change in Long Term Investment</th>\n",
              "      <th>Net Cash from Acquisitions &amp; Divestitures</th>\n",
              "      <th>Net Cash from Investing Activities</th>\n",
              "      <th>Dividends Paid</th>\n",
              "      <th>Cash from (Repayment of) Debt</th>\n",
              "      <th>Cash from (Repurchase of) Equity</th>\n",
              "      <th>Net Cash from Financing Activities</th>\n",
              "      <th>Net Change in Cash</th>\n",
              "    </tr>\n",
              "  </thead>\n",
              "  <tbody>\n",
              "    <tr>\n",
              "      <th>0</th>\n",
              "      <td>A</td>\n",
              "      <td>45846</td>\n",
              "      <td>USD</td>\n",
              "      <td>2016</td>\n",
              "      <td>FY</td>\n",
              "      <td>10/31/2016</td>\n",
              "      <td>12/20/2016</td>\n",
              "      <td>12/20/2018</td>\n",
              "      <td>326000000.0</td>\n",
              "      <td>329000000.0</td>\n",
              "      <td>...</td>\n",
              "      <td>7.930000e+08</td>\n",
              "      <td>-139000000.0</td>\n",
              "      <td>1000000.0</td>\n",
              "      <td>-2.610000e+08</td>\n",
              "      <td>-2.380000e+08</td>\n",
              "      <td>-150000000.0</td>\n",
              "      <td>262000000.0</td>\n",
              "      <td>-372000000.0</td>\n",
              "      <td>-268000000.0</td>\n",
              "      <td>286000000.0</td>\n",
              "    </tr>\n",
              "    <tr>\n",
              "      <th>1</th>\n",
              "      <td>A</td>\n",
              "      <td>45846</td>\n",
              "      <td>USD</td>\n",
              "      <td>2017</td>\n",
              "      <td>FY</td>\n",
              "      <td>10/31/2017</td>\n",
              "      <td>12/21/2017</td>\n",
              "      <td>12/20/2018</td>\n",
              "      <td>322000000.0</td>\n",
              "      <td>326000000.0</td>\n",
              "      <td>...</td>\n",
              "      <td>8.890000e+08</td>\n",
              "      <td>-176000000.0</td>\n",
              "      <td>0.0</td>\n",
              "      <td>-1.260000e+08</td>\n",
              "      <td>-3.050000e+08</td>\n",
              "      <td>-170000000.0</td>\n",
              "      <td>110000000.0</td>\n",
              "      <td>-128000000.0</td>\n",
              "      <td>-202000000.0</td>\n",
              "      <td>389000000.0</td>\n",
              "    </tr>\n",
              "    <tr>\n",
              "      <th>2</th>\n",
              "      <td>A</td>\n",
              "      <td>45846</td>\n",
              "      <td>USD</td>\n",
              "      <td>2018</td>\n",
              "      <td>FY</td>\n",
              "      <td>10/31/2018</td>\n",
              "      <td>12/20/2018</td>\n",
              "      <td>12/18/2020</td>\n",
              "      <td>321000000.0</td>\n",
              "      <td>325000000.0</td>\n",
              "      <td>...</td>\n",
              "      <td>1.087000e+09</td>\n",
              "      <td>-176000000.0</td>\n",
              "      <td>NaN</td>\n",
              "      <td>-5.160000e+08</td>\n",
              "      <td>-7.050000e+08</td>\n",
              "      <td>-191000000.0</td>\n",
              "      <td>-210000000.0</td>\n",
              "      <td>-366000000.0</td>\n",
              "      <td>-797000000.0</td>\n",
              "      <td>-432000000.0</td>\n",
              "    </tr>\n",
              "    <tr>\n",
              "      <th>3</th>\n",
              "      <td>A</td>\n",
              "      <td>45846</td>\n",
              "      <td>USD</td>\n",
              "      <td>2019</td>\n",
              "      <td>FY</td>\n",
              "      <td>10/31/2019</td>\n",
              "      <td>12/19/2019</td>\n",
              "      <td>12/17/2021</td>\n",
              "      <td>314000000.0</td>\n",
              "      <td>318000000.0</td>\n",
              "      <td>...</td>\n",
              "      <td>1.021000e+09</td>\n",
              "      <td>-155000000.0</td>\n",
              "      <td>NaN</td>\n",
              "      <td>-1.408000e+09</td>\n",
              "      <td>-1.590000e+09</td>\n",
              "      <td>-206000000.0</td>\n",
              "      <td>600000000.0</td>\n",
              "      <td>-669000000.0</td>\n",
              "      <td>-299000000.0</td>\n",
              "      <td>-866000000.0</td>\n",
              "    </tr>\n",
              "    <tr>\n",
              "      <th>4</th>\n",
              "      <td>A</td>\n",
              "      <td>45846</td>\n",
              "      <td>USD</td>\n",
              "      <td>2020</td>\n",
              "      <td>FY</td>\n",
              "      <td>10/31/2020</td>\n",
              "      <td>12/18/2020</td>\n",
              "      <td>12/17/2021</td>\n",
              "      <td>309000000.0</td>\n",
              "      <td>312000000.0</td>\n",
              "      <td>...</td>\n",
              "      <td>9.210000e+08</td>\n",
              "      <td>-118000000.0</td>\n",
              "      <td>NaN</td>\n",
              "      <td>NaN</td>\n",
              "      <td>-1.470000e+08</td>\n",
              "      <td>-222000000.0</td>\n",
              "      <td>-45000000.0</td>\n",
              "      <td>-409000000.0</td>\n",
              "      <td>-717000000.0</td>\n",
              "      <td>59000000.0</td>\n",
              "    </tr>\n",
              "  </tbody>\n",
              "</table>\n",
              "<p>5 rows × 82 columns</p>\n",
              "</div>\n",
              "      <button class=\"colab-df-convert\" onclick=\"convertToInteractive('df-d035f207-b38d-4507-8965-7effeda632be')\"\n",
              "              title=\"Convert this dataframe to an interactive table.\"\n",
              "              style=\"display:none;\">\n",
              "        \n",
              "  <svg xmlns=\"http://www.w3.org/2000/svg\" height=\"24px\"viewBox=\"0 0 24 24\"\n",
              "       width=\"24px\">\n",
              "    <path d=\"M0 0h24v24H0V0z\" fill=\"none\"/>\n",
              "    <path d=\"M18.56 5.44l.94 2.06.94-2.06 2.06-.94-2.06-.94-.94-2.06-.94 2.06-2.06.94zm-11 1L8.5 8.5l.94-2.06 2.06-.94-2.06-.94L8.5 2.5l-.94 2.06-2.06.94zm10 10l.94 2.06.94-2.06 2.06-.94-2.06-.94-.94-2.06-.94 2.06-2.06.94z\"/><path d=\"M17.41 7.96l-1.37-1.37c-.4-.4-.92-.59-1.43-.59-.52 0-1.04.2-1.43.59L10.3 9.45l-7.72 7.72c-.78.78-.78 2.05 0 2.83L4 21.41c.39.39.9.59 1.41.59.51 0 1.02-.2 1.41-.59l7.78-7.78 2.81-2.81c.8-.78.8-2.07 0-2.86zM5.41 20L4 18.59l7.72-7.72 1.47 1.35L5.41 20z\"/>\n",
              "  </svg>\n",
              "      </button>\n",
              "      \n",
              "  <style>\n",
              "    .colab-df-container {\n",
              "      display:flex;\n",
              "      flex-wrap:wrap;\n",
              "      gap: 12px;\n",
              "    }\n",
              "\n",
              "    .colab-df-convert {\n",
              "      background-color: #E8F0FE;\n",
              "      border: none;\n",
              "      border-radius: 50%;\n",
              "      cursor: pointer;\n",
              "      display: none;\n",
              "      fill: #1967D2;\n",
              "      height: 32px;\n",
              "      padding: 0 0 0 0;\n",
              "      width: 32px;\n",
              "    }\n",
              "\n",
              "    .colab-df-convert:hover {\n",
              "      background-color: #E2EBFA;\n",
              "      box-shadow: 0px 1px 2px rgba(60, 64, 67, 0.3), 0px 1px 3px 1px rgba(60, 64, 67, 0.15);\n",
              "      fill: #174EA6;\n",
              "    }\n",
              "\n",
              "    [theme=dark] .colab-df-convert {\n",
              "      background-color: #3B4455;\n",
              "      fill: #D2E3FC;\n",
              "    }\n",
              "\n",
              "    [theme=dark] .colab-df-convert:hover {\n",
              "      background-color: #434B5C;\n",
              "      box-shadow: 0px 1px 3px 1px rgba(0, 0, 0, 0.15);\n",
              "      filter: drop-shadow(0px 1px 2px rgba(0, 0, 0, 0.3));\n",
              "      fill: #FFFFFF;\n",
              "    }\n",
              "  </style>\n",
              "\n",
              "      <script>\n",
              "        const buttonEl =\n",
              "          document.querySelector('#df-d035f207-b38d-4507-8965-7effeda632be button.colab-df-convert');\n",
              "        buttonEl.style.display =\n",
              "          google.colab.kernel.accessAllowed ? 'block' : 'none';\n",
              "\n",
              "        async function convertToInteractive(key) {\n",
              "          const element = document.querySelector('#df-d035f207-b38d-4507-8965-7effeda632be');\n",
              "          const dataTable =\n",
              "            await google.colab.kernel.invokeFunction('convertToInteractive',\n",
              "                                                     [key], {});\n",
              "          if (!dataTable) return;\n",
              "\n",
              "          const docLinkHtml = 'Like what you see? Visit the ' +\n",
              "            '<a target=\"_blank\" href=https://colab.research.google.com/notebooks/data_table.ipynb>data table notebook</a>'\n",
              "            + ' to learn more about interactive tables.';\n",
              "          element.innerHTML = '';\n",
              "          dataTable['output_type'] = 'display_data';\n",
              "          await google.colab.output.renderOutput(dataTable, element);\n",
              "          const docLink = document.createElement('div');\n",
              "          docLink.innerHTML = docLinkHtml;\n",
              "          element.appendChild(docLink);\n",
              "        }\n",
              "      </script>\n",
              "    </div>\n",
              "  </div>\n",
              "  "
            ]
          },
          "metadata": {},
          "execution_count": 6
        }
      ]
    },
    {
      "cell_type": "code",
      "source": [
        "DATA.info()"
      ],
      "metadata": {
        "colab": {
          "base_uri": "https://localhost:8080/"
        },
        "id": "2Jp7CC03vbDM",
        "outputId": "296e9cd7-0040-46a6-d424-f7971d8db264"
      },
      "execution_count": null,
      "outputs": [
        {
          "output_type": "stream",
          "name": "stdout",
          "text": [
            "<class 'pandas.core.frame.DataFrame'>\n",
            "Int64Index: 11175 entries, 0 to 11174\n",
            "Data columns (total 82 columns):\n",
            " #   Column                                          Non-Null Count  Dtype  \n",
            "---  ------                                          --------------  -----  \n",
            " 0   Ticker                                          11175 non-null  object \n",
            " 1   SimFinId_x                                      11175 non-null  int64  \n",
            " 2   Currency_x                                      11175 non-null  object \n",
            " 3   Fiscal Year                                     11175 non-null  int64  \n",
            " 4   Fiscal Period_x                                 11175 non-null  object \n",
            " 5   Report Date_x                                   11175 non-null  object \n",
            " 6   Publish Date_x                                  11175 non-null  object \n",
            " 7   Restated Date_x                                 11175 non-null  object \n",
            " 8   Shares (Basic)_x                                11003 non-null  float64\n",
            " 9   Shares (Diluted)_x                              11003 non-null  float64\n",
            " 10  Revenue                                         10817 non-null  float64\n",
            " 11  Cost of Revenue                                 9961 non-null   float64\n",
            " 12  Gross Profit                                    9953 non-null   float64\n",
            " 13  Operating Expenses                              11162 non-null  float64\n",
            " 14  Selling General & Administrative                10638 non-null  float64\n",
            " 15  Research & Development                          4825 non-null   float64\n",
            " 16  Depreciation & Amortization_x                   4946 non-null   float64\n",
            " 17  Operating Income (Loss)                         11175 non-null  float64\n",
            " 18  Non-Operating Income (Loss)                     11095 non-null  float64\n",
            " 19  Interest Expense  Net                           10014 non-null  float64\n",
            " 20  Pretax Income (Loss)  Adj.                      11175 non-null  float64\n",
            " 21  Abnormal Gains (Losses)                         7100 non-null   float64\n",
            " 22  Pretax Income (Loss)                            11175 non-null  float64\n",
            " 23  Income Tax (Expense) Benefit Net                10118 non-null  float64\n",
            " 24  Income (Loss) from Continuing Operations        11175 non-null  float64\n",
            " 25  Net Extraordinary Gains (Losses)                1585 non-null   float64\n",
            " 26  Net Income                                      11175 non-null  float64\n",
            " 27  Net Income (Common)                             11175 non-null  float64\n",
            " 28  SimFinId_y                                      11175 non-null  int64  \n",
            " 29  Currency_y                                      11175 non-null  object \n",
            " 30  Fiscal Period_y                                 11175 non-null  object \n",
            " 31  Report Date_y                                   11175 non-null  object \n",
            " 32  Publish Date_y                                  11175 non-null  object \n",
            " 33  Restated Date_y                                 11175 non-null  object \n",
            " 34  Shares (Basic)_y                                11003 non-null  float64\n",
            " 35  Shares (Diluted)_y                              11003 non-null  float64\n",
            " 36  Cash Cash Equivalents & Short Term Investments  11133 non-null  float64\n",
            " 37  Accounts & Notes Receivable                     9975 non-null   float64\n",
            " 38  Inventories                                     7246 non-null   float64\n",
            " 39  Total Current Assets                            11174 non-null  float64\n",
            " 40  Property Plant & Equipment Net                  10943 non-null  float64\n",
            " 41  Long Term Investments & Receivables             2832 non-null   float64\n",
            " 42  Other Long Term Assets                          11020 non-null  float64\n",
            " 43  Total Noncurrent Assets                         11131 non-null  float64\n",
            " 44  Total Assets                                    11175 non-null  float64\n",
            " 45  Payables & Accruals                             11129 non-null  float64\n",
            " 46  Short Term Debt                                 6956 non-null   float64\n",
            " 47  Total Current Liabilities                       11175 non-null  float64\n",
            " 48  Long Term Debt                                  8747 non-null   float64\n",
            " 49  Total Noncurrent Liabilities                    10953 non-null  float64\n",
            " 50  Total Liabilities                               11175 non-null  float64\n",
            " 51  Share Capital & Additional Paid-In Capital      11040 non-null  float64\n",
            " 52  Treasury Stock                                  4724 non-null   float64\n",
            " 53  Retained Earnings                               10672 non-null  float64\n",
            " 54  Total Equity                                    11174 non-null  float64\n",
            " 55  Total Liabilities & Equity                      11175 non-null  float64\n",
            " 56  SimFinId                                        11175 non-null  int64  \n",
            " 57  Currency                                        11175 non-null  object \n",
            " 58  Fiscal Period                                   11175 non-null  object \n",
            " 59  Report Date                                     11175 non-null  object \n",
            " 60  Publish Date                                    11175 non-null  object \n",
            " 61  Restated Date                                   11175 non-null  object \n",
            " 62  Shares (Basic)                                  11003 non-null  float64\n",
            " 63  Shares (Diluted)                                11003 non-null  float64\n",
            " 64  Net Income/Starting Line                        11142 non-null  float64\n",
            " 65  Depreciation & Amortization_y                   10983 non-null  float64\n",
            " 66  Non-Cash Items                                  11135 non-null  float64\n",
            " 67  Change in Working Capital                       11123 non-null  float64\n",
            " 68  Change in Accounts Receivable                   816 non-null    float64\n",
            " 69  Change in Inventories                           603 non-null    float64\n",
            " 70  Change in Accounts Payable                      651 non-null    float64\n",
            " 71  Change in Other                                 917 non-null    float64\n",
            " 72  Net Cash from Operating Activities              11175 non-null  float64\n",
            " 73  Change in Fixed Assets & Intangibles            10914 non-null  float64\n",
            " 74  Net Change in Long Term Investment              4119 non-null   float64\n",
            " 75  Net Cash from Acquisitions & Divestitures       5825 non-null   float64\n",
            " 76  Net Cash from Investing Activities              11093 non-null  float64\n",
            " 77  Dividends Paid                                  5104 non-null   float64\n",
            " 78  Cash from (Repayment of) Debt                   9632 non-null   float64\n",
            " 79  Cash from (Repurchase of) Equity                9431 non-null   float64\n",
            " 80  Net Cash from Financing Activities              11138 non-null  float64\n",
            " 81  Net Change in Cash                              11175 non-null  float64\n",
            "dtypes: float64(62), int64(4), object(16)\n",
            "memory usage: 7.1+ MB\n"
          ]
        }
      ]
    },
    {
      "cell_type": "code",
      "source": [
        "DATA.columns"
      ],
      "metadata": {
        "id": "VFbZMxUX3I-Y",
        "colab": {
          "base_uri": "https://localhost:8080/"
        },
        "outputId": "3bd998ca-fbd9-4369-cbf8-c3ebfbee07b5"
      },
      "execution_count": null,
      "outputs": [
        {
          "output_type": "execute_result",
          "data": {
            "text/plain": [
              "Index(['Ticker', 'SimFinId_x', 'Currency_x', 'Fiscal Year', 'Fiscal Period_x',\n",
              "       'Report Date_x', 'Publish Date_x', 'Restated Date_x',\n",
              "       'Shares (Basic)_x', 'Shares (Diluted)_x', 'Revenue', 'Cost of Revenue',\n",
              "       'Gross Profit', 'Operating Expenses',\n",
              "       'Selling General & Administrative', 'Research & Development',\n",
              "       'Depreciation & Amortization_x', 'Operating Income (Loss)',\n",
              "       'Non-Operating Income (Loss)', 'Interest Expense  Net',\n",
              "       'Pretax Income (Loss)  Adj.', 'Abnormal Gains (Losses)',\n",
              "       'Pretax Income (Loss)', 'Income Tax (Expense) Benefit Net',\n",
              "       'Income (Loss) from Continuing Operations',\n",
              "       'Net Extraordinary Gains (Losses)', 'Net Income', 'Net Income (Common)',\n",
              "       'SimFinId_y', 'Currency_y', 'Fiscal Period_y', 'Report Date_y',\n",
              "       'Publish Date_y', 'Restated Date_y', 'Shares (Basic)_y',\n",
              "       'Shares (Diluted)_y', 'Cash Cash Equivalents & Short Term Investments',\n",
              "       'Accounts & Notes Receivable', 'Inventories', 'Total Current Assets',\n",
              "       'Property Plant & Equipment Net', 'Long Term Investments & Receivables',\n",
              "       'Other Long Term Assets', 'Total Noncurrent Assets', 'Total Assets',\n",
              "       'Payables & Accruals', 'Short Term Debt', 'Total Current Liabilities',\n",
              "       'Long Term Debt', 'Total Noncurrent Liabilities', 'Total Liabilities',\n",
              "       'Share Capital & Additional Paid-In Capital', 'Treasury Stock',\n",
              "       'Retained Earnings', 'Total Equity', 'Total Liabilities & Equity',\n",
              "       'SimFinId', 'Currency', 'Fiscal Period', 'Report Date', 'Publish Date',\n",
              "       'Restated Date', 'Shares (Basic)', 'Shares (Diluted)',\n",
              "       'Net Income/Starting Line', 'Depreciation & Amortization_y',\n",
              "       'Non-Cash Items', 'Change in Working Capital',\n",
              "       'Change in Accounts Receivable', 'Change in Inventories',\n",
              "       'Change in Accounts Payable', 'Change in Other',\n",
              "       'Net Cash from Operating Activities',\n",
              "       'Change in Fixed Assets & Intangibles',\n",
              "       'Net Change in Long Term Investment',\n",
              "       'Net Cash from Acquisitions & Divestitures',\n",
              "       'Net Cash from Investing Activities', 'Dividends Paid',\n",
              "       'Cash from (Repayment of) Debt', 'Cash from (Repurchase of) Equity',\n",
              "       'Net Cash from Financing Activities', 'Net Change in Cash'],\n",
              "      dtype='object')"
            ]
          },
          "metadata": {},
          "execution_count": 8
        }
      ]
    },
    {
      "cell_type": "markdown",
      "source": [
        "Caculate Investment Metrics"
      ],
      "metadata": {
        "id": "6HmOu2xy2RZY"
      }
    },
    {
      "cell_type": "code",
      "source": [
        "DATA['Current Ratio'] = DATA['Total Current Assets']/DATA['Total Current Liabilities']\n",
        "DATA['LTD-to-Earnings'] = DATA['Long Term Debt']/DATA['Net Income']\n",
        "DATA['ROE'] = DATA['Net Income']/(DATA['Total Assets']-DATA['Total Liabilities'])\n",
        "DATA['Debt-to-EBIT'] = (DATA['Long Term Debt'] + DATA['Short Term Debt']) /DATA['Pretax Income (Loss)']\n",
        "DATA['Interest Coverage Ratio'] = DATA['Net Income']/DATA['Interest Expense  Net']"
      ],
      "metadata": {
        "id": "MoaSp6GS2Wx0"
      },
      "execution_count": null,
      "outputs": []
    },
    {
      "cell_type": "code",
      "source": [
        "DATA.head()"
      ],
      "metadata": {
        "colab": {
          "base_uri": "https://localhost:8080/",
          "height": 352
        },
        "id": "Day6PRdp5Pa2",
        "outputId": "52248beb-9a40-4b38-9c8d-f00f332431d0"
      },
      "execution_count": null,
      "outputs": [
        {
          "output_type": "execute_result",
          "data": {
            "text/plain": [
              "  Ticker  SimFinId_x Currency_x  Fiscal Year Fiscal Period_x Report Date_x  \\\n",
              "0      A       45846        USD         2016              FY    10/31/2016   \n",
              "1      A       45846        USD         2017              FY    10/31/2017   \n",
              "2      A       45846        USD         2018              FY    10/31/2018   \n",
              "3      A       45846        USD         2019              FY    10/31/2019   \n",
              "4      A       45846        USD         2020              FY    10/31/2020   \n",
              "\n",
              "  Publish Date_x Restated Date_x  Shares (Basic)_x  Shares (Diluted)_x  ...  \\\n",
              "0     12/20/2016      12/20/2018       326000000.0         329000000.0  ...   \n",
              "1     12/21/2017      12/20/2018       322000000.0         326000000.0  ...   \n",
              "2     12/20/2018      12/18/2020       321000000.0         325000000.0  ...   \n",
              "3     12/19/2019      12/17/2021       314000000.0         318000000.0  ...   \n",
              "4     12/18/2020      12/17/2021       309000000.0         312000000.0  ...   \n",
              "\n",
              "   Dividends Paid  Cash from (Repayment of) Debt  \\\n",
              "0    -150000000.0                    262000000.0   \n",
              "1    -170000000.0                    110000000.0   \n",
              "2    -191000000.0                   -210000000.0   \n",
              "3    -206000000.0                    600000000.0   \n",
              "4    -222000000.0                    -45000000.0   \n",
              "\n",
              "   Cash from (Repurchase of) Equity  Net Cash from Financing Activities  \\\n",
              "0                      -372000000.0                        -268000000.0   \n",
              "1                      -128000000.0                        -202000000.0   \n",
              "2                      -366000000.0                        -797000000.0   \n",
              "3                      -669000000.0                        -299000000.0   \n",
              "4                      -409000000.0                        -717000000.0   \n",
              "\n",
              "   Net Change in Cash  Current Ratio  LTD-to-Earnings       ROE  Debt-to-EBIT  \\\n",
              "0         286000000.0       3.846561         4.121212  0.108808      3.500000   \n",
              "1         389000000.0       3.300871         2.633041  0.141468      2.504359   \n",
              "2        -432000000.0       3.286080         5.693038  0.069131      1.901691   \n",
              "3        -866000000.0       1.533173         1.672269  0.225569      2.619151   \n",
              "4          59000000.0       2.327880         3.176634  0.147548      2.801663   \n",
              "\n",
              "   Interest Coverage Ratio  \n",
              "0                -7.573770  \n",
              "1               -12.000000  \n",
              "2                -8.540541  \n",
              "3               -28.184211  \n",
              "4               -10.271429  \n",
              "\n",
              "[5 rows x 87 columns]"
            ],
            "text/html": [
              "\n",
              "  <div id=\"df-efd44cde-0fcb-45c0-bdfc-c90342e1872f\">\n",
              "    <div class=\"colab-df-container\">\n",
              "      <div>\n",
              "<style scoped>\n",
              "    .dataframe tbody tr th:only-of-type {\n",
              "        vertical-align: middle;\n",
              "    }\n",
              "\n",
              "    .dataframe tbody tr th {\n",
              "        vertical-align: top;\n",
              "    }\n",
              "\n",
              "    .dataframe thead th {\n",
              "        text-align: right;\n",
              "    }\n",
              "</style>\n",
              "<table border=\"1\" class=\"dataframe\">\n",
              "  <thead>\n",
              "    <tr style=\"text-align: right;\">\n",
              "      <th></th>\n",
              "      <th>Ticker</th>\n",
              "      <th>SimFinId_x</th>\n",
              "      <th>Currency_x</th>\n",
              "      <th>Fiscal Year</th>\n",
              "      <th>Fiscal Period_x</th>\n",
              "      <th>Report Date_x</th>\n",
              "      <th>Publish Date_x</th>\n",
              "      <th>Restated Date_x</th>\n",
              "      <th>Shares (Basic)_x</th>\n",
              "      <th>Shares (Diluted)_x</th>\n",
              "      <th>...</th>\n",
              "      <th>Dividends Paid</th>\n",
              "      <th>Cash from (Repayment of) Debt</th>\n",
              "      <th>Cash from (Repurchase of) Equity</th>\n",
              "      <th>Net Cash from Financing Activities</th>\n",
              "      <th>Net Change in Cash</th>\n",
              "      <th>Current Ratio</th>\n",
              "      <th>LTD-to-Earnings</th>\n",
              "      <th>ROE</th>\n",
              "      <th>Debt-to-EBIT</th>\n",
              "      <th>Interest Coverage Ratio</th>\n",
              "    </tr>\n",
              "  </thead>\n",
              "  <tbody>\n",
              "    <tr>\n",
              "      <th>0</th>\n",
              "      <td>A</td>\n",
              "      <td>45846</td>\n",
              "      <td>USD</td>\n",
              "      <td>2016</td>\n",
              "      <td>FY</td>\n",
              "      <td>10/31/2016</td>\n",
              "      <td>12/20/2016</td>\n",
              "      <td>12/20/2018</td>\n",
              "      <td>326000000.0</td>\n",
              "      <td>329000000.0</td>\n",
              "      <td>...</td>\n",
              "      <td>-150000000.0</td>\n",
              "      <td>262000000.0</td>\n",
              "      <td>-372000000.0</td>\n",
              "      <td>-268000000.0</td>\n",
              "      <td>286000000.0</td>\n",
              "      <td>3.846561</td>\n",
              "      <td>4.121212</td>\n",
              "      <td>0.108808</td>\n",
              "      <td>3.500000</td>\n",
              "      <td>-7.573770</td>\n",
              "    </tr>\n",
              "    <tr>\n",
              "      <th>1</th>\n",
              "      <td>A</td>\n",
              "      <td>45846</td>\n",
              "      <td>USD</td>\n",
              "      <td>2017</td>\n",
              "      <td>FY</td>\n",
              "      <td>10/31/2017</td>\n",
              "      <td>12/21/2017</td>\n",
              "      <td>12/20/2018</td>\n",
              "      <td>322000000.0</td>\n",
              "      <td>326000000.0</td>\n",
              "      <td>...</td>\n",
              "      <td>-170000000.0</td>\n",
              "      <td>110000000.0</td>\n",
              "      <td>-128000000.0</td>\n",
              "      <td>-202000000.0</td>\n",
              "      <td>389000000.0</td>\n",
              "      <td>3.300871</td>\n",
              "      <td>2.633041</td>\n",
              "      <td>0.141468</td>\n",
              "      <td>2.504359</td>\n",
              "      <td>-12.000000</td>\n",
              "    </tr>\n",
              "    <tr>\n",
              "      <th>2</th>\n",
              "      <td>A</td>\n",
              "      <td>45846</td>\n",
              "      <td>USD</td>\n",
              "      <td>2018</td>\n",
              "      <td>FY</td>\n",
              "      <td>10/31/2018</td>\n",
              "      <td>12/20/2018</td>\n",
              "      <td>12/18/2020</td>\n",
              "      <td>321000000.0</td>\n",
              "      <td>325000000.0</td>\n",
              "      <td>...</td>\n",
              "      <td>-191000000.0</td>\n",
              "      <td>-210000000.0</td>\n",
              "      <td>-366000000.0</td>\n",
              "      <td>-797000000.0</td>\n",
              "      <td>-432000000.0</td>\n",
              "      <td>3.286080</td>\n",
              "      <td>5.693038</td>\n",
              "      <td>0.069131</td>\n",
              "      <td>1.901691</td>\n",
              "      <td>-8.540541</td>\n",
              "    </tr>\n",
              "    <tr>\n",
              "      <th>3</th>\n",
              "      <td>A</td>\n",
              "      <td>45846</td>\n",
              "      <td>USD</td>\n",
              "      <td>2019</td>\n",
              "      <td>FY</td>\n",
              "      <td>10/31/2019</td>\n",
              "      <td>12/19/2019</td>\n",
              "      <td>12/17/2021</td>\n",
              "      <td>314000000.0</td>\n",
              "      <td>318000000.0</td>\n",
              "      <td>...</td>\n",
              "      <td>-206000000.0</td>\n",
              "      <td>600000000.0</td>\n",
              "      <td>-669000000.0</td>\n",
              "      <td>-299000000.0</td>\n",
              "      <td>-866000000.0</td>\n",
              "      <td>1.533173</td>\n",
              "      <td>1.672269</td>\n",
              "      <td>0.225569</td>\n",
              "      <td>2.619151</td>\n",
              "      <td>-28.184211</td>\n",
              "    </tr>\n",
              "    <tr>\n",
              "      <th>4</th>\n",
              "      <td>A</td>\n",
              "      <td>45846</td>\n",
              "      <td>USD</td>\n",
              "      <td>2020</td>\n",
              "      <td>FY</td>\n",
              "      <td>10/31/2020</td>\n",
              "      <td>12/18/2020</td>\n",
              "      <td>12/17/2021</td>\n",
              "      <td>309000000.0</td>\n",
              "      <td>312000000.0</td>\n",
              "      <td>...</td>\n",
              "      <td>-222000000.0</td>\n",
              "      <td>-45000000.0</td>\n",
              "      <td>-409000000.0</td>\n",
              "      <td>-717000000.0</td>\n",
              "      <td>59000000.0</td>\n",
              "      <td>2.327880</td>\n",
              "      <td>3.176634</td>\n",
              "      <td>0.147548</td>\n",
              "      <td>2.801663</td>\n",
              "      <td>-10.271429</td>\n",
              "    </tr>\n",
              "  </tbody>\n",
              "</table>\n",
              "<p>5 rows × 87 columns</p>\n",
              "</div>\n",
              "      <button class=\"colab-df-convert\" onclick=\"convertToInteractive('df-efd44cde-0fcb-45c0-bdfc-c90342e1872f')\"\n",
              "              title=\"Convert this dataframe to an interactive table.\"\n",
              "              style=\"display:none;\">\n",
              "        \n",
              "  <svg xmlns=\"http://www.w3.org/2000/svg\" height=\"24px\"viewBox=\"0 0 24 24\"\n",
              "       width=\"24px\">\n",
              "    <path d=\"M0 0h24v24H0V0z\" fill=\"none\"/>\n",
              "    <path d=\"M18.56 5.44l.94 2.06.94-2.06 2.06-.94-2.06-.94-.94-2.06-.94 2.06-2.06.94zm-11 1L8.5 8.5l.94-2.06 2.06-.94-2.06-.94L8.5 2.5l-.94 2.06-2.06.94zm10 10l.94 2.06.94-2.06 2.06-.94-2.06-.94-.94-2.06-.94 2.06-2.06.94z\"/><path d=\"M17.41 7.96l-1.37-1.37c-.4-.4-.92-.59-1.43-.59-.52 0-1.04.2-1.43.59L10.3 9.45l-7.72 7.72c-.78.78-.78 2.05 0 2.83L4 21.41c.39.39.9.59 1.41.59.51 0 1.02-.2 1.41-.59l7.78-7.78 2.81-2.81c.8-.78.8-2.07 0-2.86zM5.41 20L4 18.59l7.72-7.72 1.47 1.35L5.41 20z\"/>\n",
              "  </svg>\n",
              "      </button>\n",
              "      \n",
              "  <style>\n",
              "    .colab-df-container {\n",
              "      display:flex;\n",
              "      flex-wrap:wrap;\n",
              "      gap: 12px;\n",
              "    }\n",
              "\n",
              "    .colab-df-convert {\n",
              "      background-color: #E8F0FE;\n",
              "      border: none;\n",
              "      border-radius: 50%;\n",
              "      cursor: pointer;\n",
              "      display: none;\n",
              "      fill: #1967D2;\n",
              "      height: 32px;\n",
              "      padding: 0 0 0 0;\n",
              "      width: 32px;\n",
              "    }\n",
              "\n",
              "    .colab-df-convert:hover {\n",
              "      background-color: #E2EBFA;\n",
              "      box-shadow: 0px 1px 2px rgba(60, 64, 67, 0.3), 0px 1px 3px 1px rgba(60, 64, 67, 0.15);\n",
              "      fill: #174EA6;\n",
              "    }\n",
              "\n",
              "    [theme=dark] .colab-df-convert {\n",
              "      background-color: #3B4455;\n",
              "      fill: #D2E3FC;\n",
              "    }\n",
              "\n",
              "    [theme=dark] .colab-df-convert:hover {\n",
              "      background-color: #434B5C;\n",
              "      box-shadow: 0px 1px 3px 1px rgba(0, 0, 0, 0.15);\n",
              "      filter: drop-shadow(0px 1px 2px rgba(0, 0, 0, 0.3));\n",
              "      fill: #FFFFFF;\n",
              "    }\n",
              "  </style>\n",
              "\n",
              "      <script>\n",
              "        const buttonEl =\n",
              "          document.querySelector('#df-efd44cde-0fcb-45c0-bdfc-c90342e1872f button.colab-df-convert');\n",
              "        buttonEl.style.display =\n",
              "          google.colab.kernel.accessAllowed ? 'block' : 'none';\n",
              "\n",
              "        async function convertToInteractive(key) {\n",
              "          const element = document.querySelector('#df-efd44cde-0fcb-45c0-bdfc-c90342e1872f');\n",
              "          const dataTable =\n",
              "            await google.colab.kernel.invokeFunction('convertToInteractive',\n",
              "                                                     [key], {});\n",
              "          if (!dataTable) return;\n",
              "\n",
              "          const docLinkHtml = 'Like what you see? Visit the ' +\n",
              "            '<a target=\"_blank\" href=https://colab.research.google.com/notebooks/data_table.ipynb>data table notebook</a>'\n",
              "            + ' to learn more about interactive tables.';\n",
              "          element.innerHTML = '';\n",
              "          dataTable['output_type'] = 'display_data';\n",
              "          await google.colab.output.renderOutput(dataTable, element);\n",
              "          const docLink = document.createElement('div');\n",
              "          docLink.innerHTML = docLinkHtml;\n",
              "          element.appendChild(docLink);\n",
              "        }\n",
              "      </script>\n",
              "    </div>\n",
              "  </div>\n",
              "  "
            ]
          },
          "metadata": {},
          "execution_count": 10
        }
      ]
    },
    {
      "cell_type": "code",
      "source": [
        "DATA['Success'] = np.where((DATA['Current Ratio']>1)& (DATA['LTD-to-Earnings']<5) & (DATA['ROE']>0.12)  & (DATA['Debt-to-EBIT']<3), 1, 0)\n"
      ],
      "metadata": {
        "id": "mOoOshC16KJz"
      },
      "execution_count": null,
      "outputs": []
    },
    {
      "cell_type": "code",
      "source": [
        "DATA.head()"
      ],
      "metadata": {
        "colab": {
          "base_uri": "https://localhost:8080/",
          "height": 332
        },
        "id": "aXujvi-D7P6a",
        "outputId": "4cb01c0c-10c2-4cd9-88f4-98205f7f2902"
      },
      "execution_count": null,
      "outputs": [
        {
          "output_type": "execute_result",
          "data": {
            "text/plain": [
              "  Ticker  SimFinId_x Currency_x  Fiscal Year Fiscal Period_x Report Date_x  \\\n",
              "0      A       45846        USD         2016              FY    10/31/2016   \n",
              "1      A       45846        USD         2017              FY    10/31/2017   \n",
              "2      A       45846        USD         2018              FY    10/31/2018   \n",
              "3      A       45846        USD         2019              FY    10/31/2019   \n",
              "4      A       45846        USD         2020              FY    10/31/2020   \n",
              "\n",
              "  Publish Date_x Restated Date_x  Shares (Basic)_x  Shares (Diluted)_x  ...  \\\n",
              "0     12/20/2016      12/20/2018       326000000.0         329000000.0  ...   \n",
              "1     12/21/2017      12/20/2018       322000000.0         326000000.0  ...   \n",
              "2     12/20/2018      12/18/2020       321000000.0         325000000.0  ...   \n",
              "3     12/19/2019      12/17/2021       314000000.0         318000000.0  ...   \n",
              "4     12/18/2020      12/17/2021       309000000.0         312000000.0  ...   \n",
              "\n",
              "   Cash from (Repayment of) Debt  Cash from (Repurchase of) Equity  \\\n",
              "0                    262000000.0                      -372000000.0   \n",
              "1                    110000000.0                      -128000000.0   \n",
              "2                   -210000000.0                      -366000000.0   \n",
              "3                    600000000.0                      -669000000.0   \n",
              "4                    -45000000.0                      -409000000.0   \n",
              "\n",
              "   Net Cash from Financing Activities  Net Change in Cash  Current Ratio  \\\n",
              "0                        -268000000.0         286000000.0       3.846561   \n",
              "1                        -202000000.0         389000000.0       3.300871   \n",
              "2                        -797000000.0        -432000000.0       3.286080   \n",
              "3                        -299000000.0        -866000000.0       1.533173   \n",
              "4                        -717000000.0          59000000.0       2.327880   \n",
              "\n",
              "   LTD-to-Earnings       ROE  Debt-to-EBIT  Interest Coverage Ratio  Success  \n",
              "0         4.121212  0.108808      3.500000                -7.573770        0  \n",
              "1         2.633041  0.141468      2.504359               -12.000000        1  \n",
              "2         5.693038  0.069131      1.901691                -8.540541        0  \n",
              "3         1.672269  0.225569      2.619151               -28.184211        1  \n",
              "4         3.176634  0.147548      2.801663               -10.271429        1  \n",
              "\n",
              "[5 rows x 88 columns]"
            ],
            "text/html": [
              "\n",
              "  <div id=\"df-37dfda22-ecb9-4f68-a611-3bb14ef060af\">\n",
              "    <div class=\"colab-df-container\">\n",
              "      <div>\n",
              "<style scoped>\n",
              "    .dataframe tbody tr th:only-of-type {\n",
              "        vertical-align: middle;\n",
              "    }\n",
              "\n",
              "    .dataframe tbody tr th {\n",
              "        vertical-align: top;\n",
              "    }\n",
              "\n",
              "    .dataframe thead th {\n",
              "        text-align: right;\n",
              "    }\n",
              "</style>\n",
              "<table border=\"1\" class=\"dataframe\">\n",
              "  <thead>\n",
              "    <tr style=\"text-align: right;\">\n",
              "      <th></th>\n",
              "      <th>Ticker</th>\n",
              "      <th>SimFinId_x</th>\n",
              "      <th>Currency_x</th>\n",
              "      <th>Fiscal Year</th>\n",
              "      <th>Fiscal Period_x</th>\n",
              "      <th>Report Date_x</th>\n",
              "      <th>Publish Date_x</th>\n",
              "      <th>Restated Date_x</th>\n",
              "      <th>Shares (Basic)_x</th>\n",
              "      <th>Shares (Diluted)_x</th>\n",
              "      <th>...</th>\n",
              "      <th>Cash from (Repayment of) Debt</th>\n",
              "      <th>Cash from (Repurchase of) Equity</th>\n",
              "      <th>Net Cash from Financing Activities</th>\n",
              "      <th>Net Change in Cash</th>\n",
              "      <th>Current Ratio</th>\n",
              "      <th>LTD-to-Earnings</th>\n",
              "      <th>ROE</th>\n",
              "      <th>Debt-to-EBIT</th>\n",
              "      <th>Interest Coverage Ratio</th>\n",
              "      <th>Success</th>\n",
              "    </tr>\n",
              "  </thead>\n",
              "  <tbody>\n",
              "    <tr>\n",
              "      <th>0</th>\n",
              "      <td>A</td>\n",
              "      <td>45846</td>\n",
              "      <td>USD</td>\n",
              "      <td>2016</td>\n",
              "      <td>FY</td>\n",
              "      <td>10/31/2016</td>\n",
              "      <td>12/20/2016</td>\n",
              "      <td>12/20/2018</td>\n",
              "      <td>326000000.0</td>\n",
              "      <td>329000000.0</td>\n",
              "      <td>...</td>\n",
              "      <td>262000000.0</td>\n",
              "      <td>-372000000.0</td>\n",
              "      <td>-268000000.0</td>\n",
              "      <td>286000000.0</td>\n",
              "      <td>3.846561</td>\n",
              "      <td>4.121212</td>\n",
              "      <td>0.108808</td>\n",
              "      <td>3.500000</td>\n",
              "      <td>-7.573770</td>\n",
              "      <td>0</td>\n",
              "    </tr>\n",
              "    <tr>\n",
              "      <th>1</th>\n",
              "      <td>A</td>\n",
              "      <td>45846</td>\n",
              "      <td>USD</td>\n",
              "      <td>2017</td>\n",
              "      <td>FY</td>\n",
              "      <td>10/31/2017</td>\n",
              "      <td>12/21/2017</td>\n",
              "      <td>12/20/2018</td>\n",
              "      <td>322000000.0</td>\n",
              "      <td>326000000.0</td>\n",
              "      <td>...</td>\n",
              "      <td>110000000.0</td>\n",
              "      <td>-128000000.0</td>\n",
              "      <td>-202000000.0</td>\n",
              "      <td>389000000.0</td>\n",
              "      <td>3.300871</td>\n",
              "      <td>2.633041</td>\n",
              "      <td>0.141468</td>\n",
              "      <td>2.504359</td>\n",
              "      <td>-12.000000</td>\n",
              "      <td>1</td>\n",
              "    </tr>\n",
              "    <tr>\n",
              "      <th>2</th>\n",
              "      <td>A</td>\n",
              "      <td>45846</td>\n",
              "      <td>USD</td>\n",
              "      <td>2018</td>\n",
              "      <td>FY</td>\n",
              "      <td>10/31/2018</td>\n",
              "      <td>12/20/2018</td>\n",
              "      <td>12/18/2020</td>\n",
              "      <td>321000000.0</td>\n",
              "      <td>325000000.0</td>\n",
              "      <td>...</td>\n",
              "      <td>-210000000.0</td>\n",
              "      <td>-366000000.0</td>\n",
              "      <td>-797000000.0</td>\n",
              "      <td>-432000000.0</td>\n",
              "      <td>3.286080</td>\n",
              "      <td>5.693038</td>\n",
              "      <td>0.069131</td>\n",
              "      <td>1.901691</td>\n",
              "      <td>-8.540541</td>\n",
              "      <td>0</td>\n",
              "    </tr>\n",
              "    <tr>\n",
              "      <th>3</th>\n",
              "      <td>A</td>\n",
              "      <td>45846</td>\n",
              "      <td>USD</td>\n",
              "      <td>2019</td>\n",
              "      <td>FY</td>\n",
              "      <td>10/31/2019</td>\n",
              "      <td>12/19/2019</td>\n",
              "      <td>12/17/2021</td>\n",
              "      <td>314000000.0</td>\n",
              "      <td>318000000.0</td>\n",
              "      <td>...</td>\n",
              "      <td>600000000.0</td>\n",
              "      <td>-669000000.0</td>\n",
              "      <td>-299000000.0</td>\n",
              "      <td>-866000000.0</td>\n",
              "      <td>1.533173</td>\n",
              "      <td>1.672269</td>\n",
              "      <td>0.225569</td>\n",
              "      <td>2.619151</td>\n",
              "      <td>-28.184211</td>\n",
              "      <td>1</td>\n",
              "    </tr>\n",
              "    <tr>\n",
              "      <th>4</th>\n",
              "      <td>A</td>\n",
              "      <td>45846</td>\n",
              "      <td>USD</td>\n",
              "      <td>2020</td>\n",
              "      <td>FY</td>\n",
              "      <td>10/31/2020</td>\n",
              "      <td>12/18/2020</td>\n",
              "      <td>12/17/2021</td>\n",
              "      <td>309000000.0</td>\n",
              "      <td>312000000.0</td>\n",
              "      <td>...</td>\n",
              "      <td>-45000000.0</td>\n",
              "      <td>-409000000.0</td>\n",
              "      <td>-717000000.0</td>\n",
              "      <td>59000000.0</td>\n",
              "      <td>2.327880</td>\n",
              "      <td>3.176634</td>\n",
              "      <td>0.147548</td>\n",
              "      <td>2.801663</td>\n",
              "      <td>-10.271429</td>\n",
              "      <td>1</td>\n",
              "    </tr>\n",
              "  </tbody>\n",
              "</table>\n",
              "<p>5 rows × 88 columns</p>\n",
              "</div>\n",
              "      <button class=\"colab-df-convert\" onclick=\"convertToInteractive('df-37dfda22-ecb9-4f68-a611-3bb14ef060af')\"\n",
              "              title=\"Convert this dataframe to an interactive table.\"\n",
              "              style=\"display:none;\">\n",
              "        \n",
              "  <svg xmlns=\"http://www.w3.org/2000/svg\" height=\"24px\"viewBox=\"0 0 24 24\"\n",
              "       width=\"24px\">\n",
              "    <path d=\"M0 0h24v24H0V0z\" fill=\"none\"/>\n",
              "    <path d=\"M18.56 5.44l.94 2.06.94-2.06 2.06-.94-2.06-.94-.94-2.06-.94 2.06-2.06.94zm-11 1L8.5 8.5l.94-2.06 2.06-.94-2.06-.94L8.5 2.5l-.94 2.06-2.06.94zm10 10l.94 2.06.94-2.06 2.06-.94-2.06-.94-.94-2.06-.94 2.06-2.06.94z\"/><path d=\"M17.41 7.96l-1.37-1.37c-.4-.4-.92-.59-1.43-.59-.52 0-1.04.2-1.43.59L10.3 9.45l-7.72 7.72c-.78.78-.78 2.05 0 2.83L4 21.41c.39.39.9.59 1.41.59.51 0 1.02-.2 1.41-.59l7.78-7.78 2.81-2.81c.8-.78.8-2.07 0-2.86zM5.41 20L4 18.59l7.72-7.72 1.47 1.35L5.41 20z\"/>\n",
              "  </svg>\n",
              "      </button>\n",
              "      \n",
              "  <style>\n",
              "    .colab-df-container {\n",
              "      display:flex;\n",
              "      flex-wrap:wrap;\n",
              "      gap: 12px;\n",
              "    }\n",
              "\n",
              "    .colab-df-convert {\n",
              "      background-color: #E8F0FE;\n",
              "      border: none;\n",
              "      border-radius: 50%;\n",
              "      cursor: pointer;\n",
              "      display: none;\n",
              "      fill: #1967D2;\n",
              "      height: 32px;\n",
              "      padding: 0 0 0 0;\n",
              "      width: 32px;\n",
              "    }\n",
              "\n",
              "    .colab-df-convert:hover {\n",
              "      background-color: #E2EBFA;\n",
              "      box-shadow: 0px 1px 2px rgba(60, 64, 67, 0.3), 0px 1px 3px 1px rgba(60, 64, 67, 0.15);\n",
              "      fill: #174EA6;\n",
              "    }\n",
              "\n",
              "    [theme=dark] .colab-df-convert {\n",
              "      background-color: #3B4455;\n",
              "      fill: #D2E3FC;\n",
              "    }\n",
              "\n",
              "    [theme=dark] .colab-df-convert:hover {\n",
              "      background-color: #434B5C;\n",
              "      box-shadow: 0px 1px 3px 1px rgba(0, 0, 0, 0.15);\n",
              "      filter: drop-shadow(0px 1px 2px rgba(0, 0, 0, 0.3));\n",
              "      fill: #FFFFFF;\n",
              "    }\n",
              "  </style>\n",
              "\n",
              "      <script>\n",
              "        const buttonEl =\n",
              "          document.querySelector('#df-37dfda22-ecb9-4f68-a611-3bb14ef060af button.colab-df-convert');\n",
              "        buttonEl.style.display =\n",
              "          google.colab.kernel.accessAllowed ? 'block' : 'none';\n",
              "\n",
              "        async function convertToInteractive(key) {\n",
              "          const element = document.querySelector('#df-37dfda22-ecb9-4f68-a611-3bb14ef060af');\n",
              "          const dataTable =\n",
              "            await google.colab.kernel.invokeFunction('convertToInteractive',\n",
              "                                                     [key], {});\n",
              "          if (!dataTable) return;\n",
              "\n",
              "          const docLinkHtml = 'Like what you see? Visit the ' +\n",
              "            '<a target=\"_blank\" href=https://colab.research.google.com/notebooks/data_table.ipynb>data table notebook</a>'\n",
              "            + ' to learn more about interactive tables.';\n",
              "          element.innerHTML = '';\n",
              "          dataTable['output_type'] = 'display_data';\n",
              "          await google.colab.output.renderOutput(dataTable, element);\n",
              "          const docLink = document.createElement('div');\n",
              "          docLink.innerHTML = docLinkHtml;\n",
              "          element.appendChild(docLink);\n",
              "        }\n",
              "      </script>\n",
              "    </div>\n",
              "  </div>\n",
              "  "
            ]
          },
          "metadata": {},
          "execution_count": 12
        }
      ]
    },
    {
      "cell_type": "code",
      "source": [
        "DATA=DATA[['Current Ratio', 'LTD-to-Earnings', 'ROE', 'Debt-to-EBIT','Interest Coverage Ratio', 'Success']]\n",
        "DATA.replace([np.inf, -np.inf], np.nan, inplace=True) # this code\n",
        "DATA=DATA.dropna() #drop missing values\n",
        "DATA.head()"
      ],
      "metadata": {
        "id": "gmWw-LRE8InM",
        "colab": {
          "base_uri": "https://localhost:8080/",
          "height": 293
        },
        "outputId": "32d3f47c-67b7-4ba0-9982-0789ac1ae448"
      },
      "execution_count": null,
      "outputs": [
        {
          "output_type": "stream",
          "name": "stderr",
          "text": [
            "/usr/local/lib/python3.8/dist-packages/pandas/core/frame.py:5238: SettingWithCopyWarning: \n",
            "A value is trying to be set on a copy of a slice from a DataFrame\n",
            "\n",
            "See the caveats in the documentation: https://pandas.pydata.org/pandas-docs/stable/user_guide/indexing.html#returning-a-view-versus-a-copy\n",
            "  return super().replace(\n"
          ]
        },
        {
          "output_type": "execute_result",
          "data": {
            "text/plain": [
              "   Current Ratio  LTD-to-Earnings       ROE  Debt-to-EBIT  \\\n",
              "0       3.846561         4.121212  0.108808      3.500000   \n",
              "1       3.300871         2.633041  0.141468      2.504359   \n",
              "2       3.286080         5.693038  0.069131      1.901691   \n",
              "3       1.533173         1.672269  0.225569      2.619151   \n",
              "4       2.327880         3.176634  0.147548      2.801663   \n",
              "\n",
              "   Interest Coverage Ratio  Success  \n",
              "0                -7.573770        0  \n",
              "1               -12.000000        1  \n",
              "2                -8.540541        0  \n",
              "3               -28.184211        1  \n",
              "4               -10.271429        1  "
            ],
            "text/html": [
              "\n",
              "  <div id=\"df-9536e419-5c5e-41e4-99c3-fcb024cf2cbb\">\n",
              "    <div class=\"colab-df-container\">\n",
              "      <div>\n",
              "<style scoped>\n",
              "    .dataframe tbody tr th:only-of-type {\n",
              "        vertical-align: middle;\n",
              "    }\n",
              "\n",
              "    .dataframe tbody tr th {\n",
              "        vertical-align: top;\n",
              "    }\n",
              "\n",
              "    .dataframe thead th {\n",
              "        text-align: right;\n",
              "    }\n",
              "</style>\n",
              "<table border=\"1\" class=\"dataframe\">\n",
              "  <thead>\n",
              "    <tr style=\"text-align: right;\">\n",
              "      <th></th>\n",
              "      <th>Current Ratio</th>\n",
              "      <th>LTD-to-Earnings</th>\n",
              "      <th>ROE</th>\n",
              "      <th>Debt-to-EBIT</th>\n",
              "      <th>Interest Coverage Ratio</th>\n",
              "      <th>Success</th>\n",
              "    </tr>\n",
              "  </thead>\n",
              "  <tbody>\n",
              "    <tr>\n",
              "      <th>0</th>\n",
              "      <td>3.846561</td>\n",
              "      <td>4.121212</td>\n",
              "      <td>0.108808</td>\n",
              "      <td>3.500000</td>\n",
              "      <td>-7.573770</td>\n",
              "      <td>0</td>\n",
              "    </tr>\n",
              "    <tr>\n",
              "      <th>1</th>\n",
              "      <td>3.300871</td>\n",
              "      <td>2.633041</td>\n",
              "      <td>0.141468</td>\n",
              "      <td>2.504359</td>\n",
              "      <td>-12.000000</td>\n",
              "      <td>1</td>\n",
              "    </tr>\n",
              "    <tr>\n",
              "      <th>2</th>\n",
              "      <td>3.286080</td>\n",
              "      <td>5.693038</td>\n",
              "      <td>0.069131</td>\n",
              "      <td>1.901691</td>\n",
              "      <td>-8.540541</td>\n",
              "      <td>0</td>\n",
              "    </tr>\n",
              "    <tr>\n",
              "      <th>3</th>\n",
              "      <td>1.533173</td>\n",
              "      <td>1.672269</td>\n",
              "      <td>0.225569</td>\n",
              "      <td>2.619151</td>\n",
              "      <td>-28.184211</td>\n",
              "      <td>1</td>\n",
              "    </tr>\n",
              "    <tr>\n",
              "      <th>4</th>\n",
              "      <td>2.327880</td>\n",
              "      <td>3.176634</td>\n",
              "      <td>0.147548</td>\n",
              "      <td>2.801663</td>\n",
              "      <td>-10.271429</td>\n",
              "      <td>1</td>\n",
              "    </tr>\n",
              "  </tbody>\n",
              "</table>\n",
              "</div>\n",
              "      <button class=\"colab-df-convert\" onclick=\"convertToInteractive('df-9536e419-5c5e-41e4-99c3-fcb024cf2cbb')\"\n",
              "              title=\"Convert this dataframe to an interactive table.\"\n",
              "              style=\"display:none;\">\n",
              "        \n",
              "  <svg xmlns=\"http://www.w3.org/2000/svg\" height=\"24px\"viewBox=\"0 0 24 24\"\n",
              "       width=\"24px\">\n",
              "    <path d=\"M0 0h24v24H0V0z\" fill=\"none\"/>\n",
              "    <path d=\"M18.56 5.44l.94 2.06.94-2.06 2.06-.94-2.06-.94-.94-2.06-.94 2.06-2.06.94zm-11 1L8.5 8.5l.94-2.06 2.06-.94-2.06-.94L8.5 2.5l-.94 2.06-2.06.94zm10 10l.94 2.06.94-2.06 2.06-.94-2.06-.94-.94-2.06-.94 2.06-2.06.94z\"/><path d=\"M17.41 7.96l-1.37-1.37c-.4-.4-.92-.59-1.43-.59-.52 0-1.04.2-1.43.59L10.3 9.45l-7.72 7.72c-.78.78-.78 2.05 0 2.83L4 21.41c.39.39.9.59 1.41.59.51 0 1.02-.2 1.41-.59l7.78-7.78 2.81-2.81c.8-.78.8-2.07 0-2.86zM5.41 20L4 18.59l7.72-7.72 1.47 1.35L5.41 20z\"/>\n",
              "  </svg>\n",
              "      </button>\n",
              "      \n",
              "  <style>\n",
              "    .colab-df-container {\n",
              "      display:flex;\n",
              "      flex-wrap:wrap;\n",
              "      gap: 12px;\n",
              "    }\n",
              "\n",
              "    .colab-df-convert {\n",
              "      background-color: #E8F0FE;\n",
              "      border: none;\n",
              "      border-radius: 50%;\n",
              "      cursor: pointer;\n",
              "      display: none;\n",
              "      fill: #1967D2;\n",
              "      height: 32px;\n",
              "      padding: 0 0 0 0;\n",
              "      width: 32px;\n",
              "    }\n",
              "\n",
              "    .colab-df-convert:hover {\n",
              "      background-color: #E2EBFA;\n",
              "      box-shadow: 0px 1px 2px rgba(60, 64, 67, 0.3), 0px 1px 3px 1px rgba(60, 64, 67, 0.15);\n",
              "      fill: #174EA6;\n",
              "    }\n",
              "\n",
              "    [theme=dark] .colab-df-convert {\n",
              "      background-color: #3B4455;\n",
              "      fill: #D2E3FC;\n",
              "    }\n",
              "\n",
              "    [theme=dark] .colab-df-convert:hover {\n",
              "      background-color: #434B5C;\n",
              "      box-shadow: 0px 1px 3px 1px rgba(0, 0, 0, 0.15);\n",
              "      filter: drop-shadow(0px 1px 2px rgba(0, 0, 0, 0.3));\n",
              "      fill: #FFFFFF;\n",
              "    }\n",
              "  </style>\n",
              "\n",
              "      <script>\n",
              "        const buttonEl =\n",
              "          document.querySelector('#df-9536e419-5c5e-41e4-99c3-fcb024cf2cbb button.colab-df-convert');\n",
              "        buttonEl.style.display =\n",
              "          google.colab.kernel.accessAllowed ? 'block' : 'none';\n",
              "\n",
              "        async function convertToInteractive(key) {\n",
              "          const element = document.querySelector('#df-9536e419-5c5e-41e4-99c3-fcb024cf2cbb');\n",
              "          const dataTable =\n",
              "            await google.colab.kernel.invokeFunction('convertToInteractive',\n",
              "                                                     [key], {});\n",
              "          if (!dataTable) return;\n",
              "\n",
              "          const docLinkHtml = 'Like what you see? Visit the ' +\n",
              "            '<a target=\"_blank\" href=https://colab.research.google.com/notebooks/data_table.ipynb>data table notebook</a>'\n",
              "            + ' to learn more about interactive tables.';\n",
              "          element.innerHTML = '';\n",
              "          dataTable['output_type'] = 'display_data';\n",
              "          await google.colab.output.renderOutput(dataTable, element);\n",
              "          const docLink = document.createElement('div');\n",
              "          docLink.innerHTML = docLinkHtml;\n",
              "          element.appendChild(docLink);\n",
              "        }\n",
              "      </script>\n",
              "    </div>\n",
              "  </div>\n",
              "  "
            ]
          },
          "metadata": {},
          "execution_count": 13
        }
      ]
    },
    {
      "cell_type": "code",
      "source": [
        "DATA.head()\n",
        "DATA.shape"
      ],
      "metadata": {
        "colab": {
          "base_uri": "https://localhost:8080/"
        },
        "id": "PTEebGT-8aRE",
        "outputId": "6dcbdb38-7ccf-4163-cc7c-4f97acbf2cf8"
      },
      "execution_count": null,
      "outputs": [
        {
          "output_type": "execute_result",
          "data": {
            "text/plain": [
              "(6230, 6)"
            ]
          },
          "metadata": {},
          "execution_count": 14
        }
      ]
    },
    {
      "cell_type": "code",
      "source": [
        "DATA.plot.scatter('Current Ratio', 'ROE')"
      ],
      "metadata": {
        "colab": {
          "base_uri": "https://localhost:8080/",
          "height": 296
        },
        "id": "JYbmb7N1r383",
        "outputId": "be274761-3172-4092-8975-d35fd28db7f2"
      },
      "execution_count": null,
      "outputs": [
        {
          "output_type": "execute_result",
          "data": {
            "text/plain": [
              "<matplotlib.axes._subplots.AxesSubplot at 0x7efda7728550>"
            ]
          },
          "metadata": {},
          "execution_count": 15
        },
        {
          "output_type": "display_data",
          "data": {
            "text/plain": [
              "<Figure size 432x288 with 1 Axes>"
            ],
            "image/png": "[encoded data removed]"
          },
          "metadata": {
            "needs_background": "light"
          }
        }
      ]
    },
    {
      "cell_type": "code",
      "source": [
        "DATA.plot.scatter('Current Ratio', 'LTD-to-Earnings')"
      ],
      "metadata": {
        "colab": {
          "base_uri": "https://localhost:8080/",
          "height": 296
        },
        "id": "dVOFetgkl5C5",
        "outputId": "d518c843-ee97-4201-ce9f-f704719b58e6"
      },
      "execution_count": null,
      "outputs": [
        {
          "output_type": "execute_result",
          "data": {
            "text/plain": [
              "<matplotlib.axes._subplots.AxesSubplot at 0x7efda74cf8e0>"
            ]
          },
          "metadata": {},
          "execution_count": 16
        },
        {
          "output_type": "display_data",
          "data": {
            "text/plain": [
              "<Figure size 432x288 with 1 Axes>"
            ],
            "image/png": "[encoded data removed]"
          },
          "metadata": {
            "needs_background": "light"
          }
        }
      ]
    },
    {
      "cell_type": "code",
      "source": [
        "DATA.plot.scatter('Current Ratio','Debt-to-EBIT')"
      ],
      "metadata": {
        "colab": {
          "base_uri": "https://localhost:8080/",
          "height": 296
        },
        "id": "Nmt1deE0nJfz",
        "outputId": "f1c2497e-197a-43d7-9549-642089430927"
      },
      "execution_count": null,
      "outputs": [
        {
          "output_type": "execute_result",
          "data": {
            "text/plain": [
              "<matplotlib.axes._subplots.AxesSubplot at 0x7efda772e040>"
            ]
          },
          "metadata": {},
          "execution_count": 17
        },
        {
          "output_type": "display_data",
          "data": {
            "text/plain": [
              "<Figure size 432x288 with 1 Axes>"
            ],
            "image/png": "[encoded data removed]"
          },
          "metadata": {
            "needs_background": "light"
          }
        }
      ]
    },
    {
      "cell_type": "code",
      "source": [
        "DATA.plot.scatter('ROE','Debt-to-EBIT')"
      ],
      "metadata": {
        "colab": {
          "base_uri": "https://localhost:8080/",
          "height": 296
        },
        "id": "bSKnnys-naZK",
        "outputId": "93849f86-00c2-45ab-b18c-24813fac3daa"
      },
      "execution_count": null,
      "outputs": [
        {
          "output_type": "execute_result",
          "data": {
            "text/plain": [
              "<matplotlib.axes._subplots.AxesSubplot at 0x7efda6fb7400>"
            ]
          },
          "metadata": {},
          "execution_count": 18
        },
        {
          "output_type": "display_data",
          "data": {
            "text/plain": [
              "<Figure size 432x288 with 1 Axes>"
            ],
            "image/png": "[encoded data removed]"
          },
          "metadata": {
            "needs_background": "light"
          }
        }
      ]
    },
    {
      "cell_type": "code",
      "source": [
        "DATA.hist(column='Current Ratio', bins=50, grid=True, rwidth=.9\n",
        "          , color='purple')"
      ],
      "metadata": {
        "colab": {
          "base_uri": "https://localhost:8080/",
          "height": 316
        },
        "id": "6yV9qJ_yoEk0",
        "outputId": "ab08c4ec-3971-450b-a6d9-85ff11a9d67a"
      },
      "execution_count": null,
      "outputs": [
        {
          "output_type": "execute_result",
          "data": {
            "text/plain": [
              "array([[<matplotlib.axes._subplots.AxesSubplot object at 0x7efda6f9d910>]],\n",
              "      dtype=object)"
            ]
          },
          "metadata": {},
          "execution_count": 19
        },
        {
          "output_type": "display_data",
          "data": {
            "text/plain": [
              "<Figure size 432x288 with 1 Axes>"
            ],
            "image/png": "[encoded data removed]"
          },
          "metadata": {
            "needs_background": "light"
          }
        }
      ]
    },
    {
      "cell_type": "code",
      "source": [
        "DATA.hist(column='LTD-to-Earnings', bins=5, grid=True, rwidth=.9, color='purple')"
      ],
      "metadata": {
        "colab": {
          "base_uri": "https://localhost:8080/",
          "height": 316
        },
        "id": "W7vlD6OaoS3T",
        "outputId": "00edbca6-8abb-4253-c81c-1e9a46775897"
      },
      "execution_count": null,
      "outputs": [
        {
          "output_type": "execute_result",
          "data": {
            "text/plain": [
              "array([[<matplotlib.axes._subplots.AxesSubplot object at 0x7efda6fb4cd0>]],\n",
              "      dtype=object)"
            ]
          },
          "metadata": {},
          "execution_count": 20
        },
        {
          "output_type": "display_data",
          "data": {
            "text/plain": [
              "<Figure size 432x288 with 1 Axes>"
            ],
            "image/png": "[encoded data removed]"
          },
          "metadata": {
            "needs_background": "light"
          }
        }
      ]
    },
    {
      "cell_type": "code",
      "source": [
        "DATA.hist(column='ROE', bins=5, grid=True, rwidth=.9, color='purple')"
      ],
      "metadata": {
        "colab": {
          "base_uri": "https://localhost:8080/",
          "height": 316
        },
        "id": "pUvkU-JppePV",
        "outputId": "cbe2aabe-428d-4b29-9f85-337b161f961b"
      },
      "execution_count": null,
      "outputs": [
        {
          "output_type": "execute_result",
          "data": {
            "text/plain": [
              "array([[<matplotlib.axes._subplots.AxesSubplot object at 0x7efda6dea430>]],\n",
              "      dtype=object)"
            ]
          },
          "metadata": {},
          "execution_count": 21
        },
        {
          "output_type": "display_data",
          "data": {
            "text/plain": [
              "<Figure size 432x288 with 1 Axes>"
            ],
            "image/png": "[encoded data removed]"
          },
          "metadata": {
            "needs_background": "light"
          }
        }
      ]
    },
    {
      "cell_type": "code",
      "source": [
        "DATA.hist(column='Debt-to-EBIT', bins=5, grid=True, rwidth=.9, color='purple')"
      ],
      "metadata": {
        "colab": {
          "base_uri": "https://localhost:8080/",
          "height": 316
        },
        "id": "u4uLdEsNpfYl",
        "outputId": "964067c4-df2f-441b-dbe3-bdbfa697d8c9"
      },
      "execution_count": null,
      "outputs": [
        {
          "output_type": "execute_result",
          "data": {
            "text/plain": [
              "array([[<matplotlib.axes._subplots.AxesSubplot object at 0x7efda6dd3430>]],\n",
              "      dtype=object)"
            ]
          },
          "metadata": {},
          "execution_count": 22
        },
        {
          "output_type": "display_data",
          "data": {
            "text/plain": [
              "<Figure size 432x288 with 1 Axes>"
            ],
            "image/png": "[encoded data removed]"
          },
          "metadata": {
            "needs_background": "light"
          }
        }
      ]
    },
    {
      "cell_type": "code",
      "source": [
        "boxplot = DATA.boxplot('Current Ratio' , by = 'Success')\n",
        "print(boxplot)"
      ],
      "metadata": {
        "colab": {
          "base_uri": "https://localhost:8080/",
          "height": 373
        },
        "id": "46Y-2oHop6yu",
        "outputId": "f1cbbc6e-6125-4216-c87f-cbd52709d3e2"
      },
      "execution_count": null,
      "outputs": [
        {
          "output_type": "stream",
          "name": "stdout",
          "text": [
            "AxesSubplot(0.1,0.15;0.8x0.75)\n"
          ]
        },
        {
          "output_type": "stream",
          "name": "stderr",
          "text": [
            "/usr/local/lib/python3.8/dist-packages/matplotlib/cbook/__init__.py:1376: VisibleDeprecationWarning: Creating an ndarray from ragged nested sequences (which is a list-or-tuple of lists-or-tuples-or ndarrays with different lengths or shapes) is deprecated. If you meant to do this, you must specify 'dtype=object' when creating the ndarray.\n",
            "  X = np.atleast_1d(X.T if isinstance(X, np.ndarray) else np.asarray(X))\n"
          ]
        },
        {
          "output_type": "display_data",
          "data": {
            "text/plain": [
              "<Figure size 432x288 with 1 Axes>"
            ],
            "image/png": "[encoded data removed]"
          },
          "metadata": {
            "needs_background": "light"
          }
        }
      ]
    },
    {
      "cell_type": "code",
      "source": [
        "boxplot = DATA.boxplot('LTD-to-Earnings' , by = 'Success')"
      ],
      "metadata": {
        "colab": {
          "base_uri": "https://localhost:8080/",
          "height": 356
        },
        "id": "u4dYg1qpq-oX",
        "outputId": "bf14ee8e-447c-4f3c-d1fa-2960d394a6d8"
      },
      "execution_count": null,
      "outputs": [
        {
          "output_type": "stream",
          "name": "stderr",
          "text": [
            "/usr/local/lib/python3.8/dist-packages/matplotlib/cbook/__init__.py:1376: VisibleDeprecationWarning: Creating an ndarray from ragged nested sequences (which is a list-or-tuple of lists-or-tuples-or ndarrays with different lengths or shapes) is deprecated. If you meant to do this, you must specify 'dtype=object' when creating the ndarray.\n",
            "  X = np.atleast_1d(X.T if isinstance(X, np.ndarray) else np.asarray(X))\n"
          ]
        },
        {
          "output_type": "display_data",
          "data": {
            "text/plain": [
              "<Figure size 432x288 with 1 Axes>"
            ],
            "image/png": "[encoded data removed]"
          },
          "metadata": {
            "needs_background": "light"
          }
        }
      ]
    },
    {
      "cell_type": "code",
      "source": [
        "boxplot = DATA.boxplot('ROE' , by = 'Success')"
      ],
      "metadata": {
        "colab": {
          "base_uri": "https://localhost:8080/",
          "height": 356
        },
        "id": "CJVzHxISq-w_",
        "outputId": "e7bc178e-c52c-4e17-8171-37a131f5a2ee"
      },
      "execution_count": null,
      "outputs": [
        {
          "output_type": "stream",
          "name": "stderr",
          "text": [
            "/usr/local/lib/python3.8/dist-packages/matplotlib/cbook/__init__.py:1376: VisibleDeprecationWarning: Creating an ndarray from ragged nested sequences (which is a list-or-tuple of lists-or-tuples-or ndarrays with different lengths or shapes) is deprecated. If you meant to do this, you must specify 'dtype=object' when creating the ndarray.\n",
            "  X = np.atleast_1d(X.T if isinstance(X, np.ndarray) else np.asarray(X))\n"
          ]
        },
        {
          "output_type": "display_data",
          "data": {
            "text/plain": [
              "<Figure size 432x288 with 1 Axes>"
            ],
            "image/png": "[encoded data removed]"
          },
          "metadata": {
            "needs_background": "light"
          }
        }
      ]
    },
    {
      "cell_type": "code",
      "source": [
        "boxplot = DATA.boxplot('Debt-to-EBIT' , by = 'Success')"
      ],
      "metadata": {
        "colab": {
          "base_uri": "https://localhost:8080/",
          "height": 356
        },
        "id": "7B0YQVNIq-2O",
        "outputId": "76523e52-2aad-4fab-f04a-28e99835c317"
      },
      "execution_count": null,
      "outputs": [
        {
          "output_type": "stream",
          "name": "stderr",
          "text": [
            "/usr/local/lib/python3.8/dist-packages/matplotlib/cbook/__init__.py:1376: VisibleDeprecationWarning: Creating an ndarray from ragged nested sequences (which is a list-or-tuple of lists-or-tuples-or ndarrays with different lengths or shapes) is deprecated. If you meant to do this, you must specify 'dtype=object' when creating the ndarray.\n",
            "  X = np.atleast_1d(X.T if isinstance(X, np.ndarray) else np.asarray(X))\n"
          ]
        },
        {
          "output_type": "display_data",
          "data": {
            "text/plain": [
              "<Figure size 432x288 with 1 Axes>"
            ],
            "image/png": "[encoded data removed]"
          },
          "metadata": {
            "needs_background": "light"
          }
        }
      ]
    },
    {
      "cell_type": "code",
      "source": [
        "DATA.describe()"
      ],
      "metadata": {
        "colab": {
          "base_uri": "https://localhost:8080/",
          "height": 300
        },
        "id": "nrUoDFjrrh73",
        "outputId": "0b2c7b76-e3d7-4995-f83c-855c6add692f"
      },
      "execution_count": null,
      "outputs": [
        {
          "output_type": "execute_result",
          "data": {
            "text/plain": [
              "       Current Ratio  LTD-to-Earnings          ROE   Debt-to-EBIT  \\\n",
              "count    6230.000000      6230.000000  6230.000000    6230.000000   \n",
              "mean        1.960218        87.865574    -0.000479      31.932053   \n",
              "std         2.586758      6249.189067    13.930258    1906.693767   \n",
              "min         0.000000     -9709.741935  -940.882353   -9147.117647   \n",
              "25%         1.037107        -0.319520    -0.043864      -0.419571   \n",
              "50%         1.511090         2.955407     0.084133       2.976297   \n",
              "75%         2.271927         8.086950     0.185061       7.694581   \n",
              "max        96.454663    492592.747326   388.700000  149250.173649   \n",
              "\n",
              "       Interest Coverage Ratio      Success  \n",
              "count              6230.000000  6230.000000  \n",
              "mean                -14.159463     0.146549  \n",
              "std                 952.051424     0.353684  \n",
              "min              -67289.531915     0.000000  \n",
              "25%                  -5.875071     0.000000  \n",
              "50%                  -1.886895     0.000000  \n",
              "75%                   0.892199     0.000000  \n",
              "max               25747.700612     1.000000  "
            ],
            "text/html": [
              "\n",
              "  <div id=\"df-98acf464-bf3a-49c7-8d7f-05a7757d24e0\">\n",
              "    <div class=\"colab-df-container\">\n",
              "      <div>\n",
              "<style scoped>\n",
              "    .dataframe tbody tr th:only-of-type {\n",
              "        vertical-align: middle;\n",
              "    }\n",
              "\n",
              "    .dataframe tbody tr th {\n",
              "        vertical-align: top;\n",
              "    }\n",
              "\n",
              "    .dataframe thead th {\n",
              "        text-align: right;\n",
              "    }\n",
              "</style>\n",
              "<table border=\"1\" class=\"dataframe\">\n",
              "  <thead>\n",
              "    <tr style=\"text-align: right;\">\n",
              "      <th></th>\n",
              "      <th>Current Ratio</th>\n",
              "      <th>LTD-to-Earnings</th>\n",
              "      <th>ROE</th>\n",
              "      <th>Debt-to-EBIT</th>\n",
              "      <th>Interest Coverage Ratio</th>\n",
              "      <th>Success</th>\n",
              "    </tr>\n",
              "  </thead>\n",
              "  <tbody>\n",
              "    <tr>\n",
              "      <th>count</th>\n",
              "      <td>6230.000000</td>\n",
              "      <td>6230.000000</td>\n",
              "      <td>6230.000000</td>\n",
              "      <td>6230.000000</td>\n",
              "      <td>6230.000000</td>\n",
              "      <td>6230.000000</td>\n",
              "    </tr>\n",
              "    <tr>\n",
              "      <th>mean</th>\n",
              "      <td>1.960218</td>\n",
              "      <td>87.865574</td>\n",
              "      <td>-0.000479</td>\n",
              "      <td>31.932053</td>\n",
              "      <td>-14.159463</td>\n",
              "      <td>0.146549</td>\n",
              "    </tr>\n",
              "    <tr>\n",
              "      <th>std</th>\n",
              "      <td>2.586758</td>\n",
              "      <td>6249.189067</td>\n",
              "      <td>13.930258</td>\n",
              "      <td>1906.693767</td>\n",
              "      <td>952.051424</td>\n",
              "      <td>0.353684</td>\n",
              "    </tr>\n",
              "    <tr>\n",
              "      <th>min</th>\n",
              "      <td>0.000000</td>\n",
              "      <td>-9709.741935</td>\n",
              "      <td>-940.882353</td>\n",
              "      <td>-9147.117647</td>\n",
              "      <td>-67289.531915</td>\n",
              "      <td>0.000000</td>\n",
              "    </tr>\n",
              "    <tr>\n",
              "      <th>25%</th>\n",
              "      <td>1.037107</td>\n",
              "      <td>-0.319520</td>\n",
              "      <td>-0.043864</td>\n",
              "      <td>-0.419571</td>\n",
              "      <td>-5.875071</td>\n",
              "      <td>0.000000</td>\n",
              "    </tr>\n",
              "    <tr>\n",
              "      <th>50%</th>\n",
              "      <td>1.511090</td>\n",
              "      <td>2.955407</td>\n",
              "      <td>0.084133</td>\n",
              "      <td>2.976297</td>\n",
              "      <td>-1.886895</td>\n",
              "      <td>0.000000</td>\n",
              "    </tr>\n",
              "    <tr>\n",
              "      <th>75%</th>\n",
              "      <td>2.271927</td>\n",
              "      <td>8.086950</td>\n",
              "      <td>0.185061</td>\n",
              "      <td>7.694581</td>\n",
              "      <td>0.892199</td>\n",
              "      <td>0.000000</td>\n",
              "    </tr>\n",
              "    <tr>\n",
              "      <th>max</th>\n",
              "      <td>96.454663</td>\n",
              "      <td>492592.747326</td>\n",
              "      <td>388.700000</td>\n",
              "      <td>149250.173649</td>\n",
              "      <td>25747.700612</td>\n",
              "      <td>1.000000</td>\n",
              "    </tr>\n",
              "  </tbody>\n",
              "</table>\n",
              "</div>\n",
              "      <button class=\"colab-df-convert\" onclick=\"convertToInteractive('df-98acf464-bf3a-49c7-8d7f-05a7757d24e0')\"\n",
              "              title=\"Convert this dataframe to an interactive table.\"\n",
              "              style=\"display:none;\">\n",
              "        \n",
              "  <svg xmlns=\"http://www.w3.org/2000/svg\" height=\"24px\"viewBox=\"0 0 24 24\"\n",
              "       width=\"24px\">\n",
              "    <path d=\"M0 0h24v24H0V0z\" fill=\"none\"/>\n",
              "    <path d=\"M18.56 5.44l.94 2.06.94-2.06 2.06-.94-2.06-.94-.94-2.06-.94 2.06-2.06.94zm-11 1L8.5 8.5l.94-2.06 2.06-.94-2.06-.94L8.5 2.5l-.94 2.06-2.06.94zm10 10l.94 2.06.94-2.06 2.06-.94-2.06-.94-.94-2.06-.94 2.06-2.06.94z\"/><path d=\"M17.41 7.96l-1.37-1.37c-.4-.4-.92-.59-1.43-.59-.52 0-1.04.2-1.43.59L10.3 9.45l-7.72 7.72c-.78.78-.78 2.05 0 2.83L4 21.41c.39.39.9.59 1.41.59.51 0 1.02-.2 1.41-.59l7.78-7.78 2.81-2.81c.8-.78.8-2.07 0-2.86zM5.41 20L4 18.59l7.72-7.72 1.47 1.35L5.41 20z\"/>\n",
              "  </svg>\n",
              "      </button>\n",
              "      \n",
              "  <style>\n",
              "    .colab-df-container {\n",
              "      display:flex;\n",
              "      flex-wrap:wrap;\n",
              "      gap: 12px;\n",
              "    }\n",
              "\n",
              "    .colab-df-convert {\n",
              "      background-color: #E8F0FE;\n",
              "      border: none;\n",
              "      border-radius: 50%;\n",
              "      cursor: pointer;\n",
              "      display: none;\n",
              "      fill: #1967D2;\n",
              "      height: 32px;\n",
              "      padding: 0 0 0 0;\n",
              "      width: 32px;\n",
              "    }\n",
              "\n",
              "    .colab-df-convert:hover {\n",
              "      background-color: #E2EBFA;\n",
              "      box-shadow: 0px 1px 2px rgba(60, 64, 67, 0.3), 0px 1px 3px 1px rgba(60, 64, 67, 0.15);\n",
              "      fill: #174EA6;\n",
              "    }\n",
              "\n",
              "    [theme=dark] .colab-df-convert {\n",
              "      background-color: #3B4455;\n",
              "      fill: #D2E3FC;\n",
              "    }\n",
              "\n",
              "    [theme=dark] .colab-df-convert:hover {\n",
              "      background-color: #434B5C;\n",
              "      box-shadow: 0px 1px 3px 1px rgba(0, 0, 0, 0.15);\n",
              "      filter: drop-shadow(0px 1px 2px rgba(0, 0, 0, 0.3));\n",
              "      fill: #FFFFFF;\n",
              "    }\n",
              "  </style>\n",
              "\n",
              "      <script>\n",
              "        const buttonEl =\n",
              "          document.querySelector('#df-98acf464-bf3a-49c7-8d7f-05a7757d24e0 button.colab-df-convert');\n",
              "        buttonEl.style.display =\n",
              "          google.colab.kernel.accessAllowed ? 'block' : 'none';\n",
              "\n",
              "        async function convertToInteractive(key) {\n",
              "          const element = document.querySelector('#df-98acf464-bf3a-49c7-8d7f-05a7757d24e0');\n",
              "          const dataTable =\n",
              "            await google.colab.kernel.invokeFunction('convertToInteractive',\n",
              "                                                     [key], {});\n",
              "          if (!dataTable) return;\n",
              "\n",
              "          const docLinkHtml = 'Like what you see? Visit the ' +\n",
              "            '<a target=\"_blank\" href=https://colab.research.google.com/notebooks/data_table.ipynb>data table notebook</a>'\n",
              "            + ' to learn more about interactive tables.';\n",
              "          element.innerHTML = '';\n",
              "          dataTable['output_type'] = 'display_data';\n",
              "          await google.colab.output.renderOutput(dataTable, element);\n",
              "          const docLink = document.createElement('div');\n",
              "          docLink.innerHTML = docLinkHtml;\n",
              "          element.appendChild(docLink);\n",
              "        }\n",
              "      </script>\n",
              "    </div>\n",
              "  </div>\n",
              "  "
            ]
          },
          "metadata": {},
          "execution_count": 27
        }
      ]
    },
    {
      "cell_type": "code",
      "source": [
        "FEATURES = ['Current Ratio', 'LTD-to-Earnings', 'ROE', 'Debt-to-EBIT','Interest Coverage Ratio']\n",
        "RESPONSE = 'Success'\n",
        "newDATA = DATA.copy()\n",
        "for f in FEATURES:\n",
        "\tq_low = newDATA[f].quantile(0.01) # identifying threshold for the bottom 1%\n",
        "\tq_hi  = newDATA[f].quantile(0.99) # identifying threshold for the top 1%\n",
        "\n",
        "\tdf_filtered = newDATA[(newDATA[f] < q_hi) & (newDATA[f] > q_low)]"
      ],
      "metadata": {
        "id": "RprMLLBW0I8X"
      },
      "execution_count": null,
      "outputs": []
    },
    {
      "cell_type": "markdown",
      "source": [
        "Label Balancing"
      ],
      "metadata": {
        "id": "fFY-PHe_GmXv"
      }
    },
    {
      "cell_type": "code",
      "source": [
        "import seaborn as sns\n",
        "\n",
        "ax = sns.countplot(x = \"Success\", data = df_filtered) # plot the countplot\n",
        "plt.title('Distribution of Success Statuses')# add a title\n",
        "plt.xlabel('Success Statuses') # label x as Success Statuses\n",
        "total = len(df_filtered[\"Success\"]) # total =\n",
        "for p in ax.patches:\n",
        "        percentage = '{:.2f}%'.format(100 * p.get_height()/total) # this is just scaling the graph?\n",
        "        x_coord = p.get_x() #\n",
        "        y_coord = p.get_y() + p.get_height()+0.02 # increase the bar heights by .02\n",
        "        ax.annotate(percentage, (x_coord, y_coord))\n"
      ],
      "metadata": {
        "colab": {
          "base_uri": "https://localhost:8080/",
          "height": 295
        },
        "id": "Wf8f_kbzEk8M",
        "outputId": "ef9cd0be-dd60-43b0-d081-7a91d256dabe"
      },
      "execution_count": null,
      "outputs": [
        {
          "output_type": "display_data",
          "data": {
            "text/plain": [
              "<Figure size 432x288 with 1 Axes>"
            ],
            "image/png": "[encoded data removed]"
          },
          "metadata": {
            "needs_background": "light"
          }
        }
      ]
    },
    {
      "cell_type": "code",
      "source": [
        "from collections import Counter # counts hashable objects\n",
        "from imblearn.over_sampling import SMOTE # Synthetic Minority Over-sampling Technique.\n",
        "# smote balances class distribution by randomly increasing minority class examples + replicating them\n",
        "\n",
        "from imblearn.under_sampling import RandomUnderSampler #\n",
        "# diference between randomundersampler vs smote: smote creates new artificial training examples to increase size of dataset. under sampler\n",
        "# does the exact opposite\n",
        "\n",
        "from imblearn.pipeline import Pipeline # sequence of data processing mechanisms.\n",
        "from numpy import where\n",
        "FEATURES = df_filtered.columns[:-1]; RESPONSE = DATA.columns[-1]\n",
        "over = SMOTE(sampling_strategy=0.2)\n",
        "under = RandomUnderSampler(sampling_strategy=0.6) # increase the observations for class 1 so that they are closer to class 0. So it will be a fair prediction.\n",
        "# we are trying to increase the amount of companies that are successful (duplicating the samples, redrawing from them) so we can\n",
        "\n",
        "# increased the successful\n",
        "steps = [('o', over), ('u', under)]\n",
        "pipeline = Pipeline(steps=steps)\n",
        "# transform the dataset\n",
        "\n",
        "X_SMOTE, y_SMOTE = pipeline.fit_resample(df_filtered.loc[:, FEATURES], df_filtered.loc[:, RESPONSE])\n",
        "\n",
        "# plotting label distribution after SMOTE\n",
        "ax = sns.countplot(x='Success', data = pd.DataFrame(y_SMOTE))\n",
        "plt.title('SMOTE + Undersampling Success Status Distribution')\n",
        "plt.xlabel('Success Statuses')\n",
        "total = len(y_SMOTE)\n",
        "for p in ax.patches:\n",
        "        percentage = '{:.2f}%'.format(100 * p.get_height()/total)\n",
        "        x_coord = p.get_x()\n",
        "        y_coord = p.get_y() + p.get_height()+0.02\n",
        "        ax.annotate(percentage, (x_coord, y_coord))"
      ],
      "metadata": {
        "id": "341kGkfqMiJ8",
        "colab": {
          "base_uri": "https://localhost:8080/",
          "height": 295
        },
        "outputId": "c4630fb4-c5be-4a8b-f449-77d4959fd502"
      },
      "execution_count": null,
      "outputs": [
        {
          "output_type": "display_data",
          "data": {
            "text/plain": [
              "<Figure size 432x288 with 1 Axes>"
            ],
            "image/png": "[encoded data removed]"
          },
          "metadata": {
            "needs_background": "light"
          }
        }
      ]
    },
    {
      "cell_type": "code",
      "source": [
        "DATA_NEW=pd.concat([X_SMOTE, y_SMOTE], axis=1) # 5 columns we will use to predict the outcome\n",
        "DATA_NEW\n"
      ],
      "metadata": {
        "colab": {
          "base_uri": "https://localhost:8080/",
          "height": 424
        },
        "id": "Z8m9vuutNYF0",
        "outputId": "d10b39c3-fa09-49bd-b49d-27b20aa2e774"
      },
      "execution_count": null,
      "outputs": [
        {
          "output_type": "execute_result",
          "data": {
            "text/plain": [
              "      Current Ratio  LTD-to-Earnings       ROE  Debt-to-EBIT  \\\n",
              "0          0.825258        20.891362 -0.131222     11.092567   \n",
              "1          0.609247        10.645033 -0.161652     12.567976   \n",
              "2          1.077736        -0.007646 -6.051103     -0.061062   \n",
              "3          3.076256         0.764622  0.053438     -1.251241   \n",
              "4          1.700701         3.536409  0.137031      3.211887   \n",
              "...             ...              ...       ...           ...   \n",
              "2784       1.959866         0.126012  0.190191      0.132326   \n",
              "2785       1.435974         1.475857  0.520787      1.625763   \n",
              "2786       1.780117         0.974716  0.315939      0.852951   \n",
              "2787       1.629907         0.837688  0.253403      0.952719   \n",
              "2788       1.374822         1.149173  0.196592      1.061574   \n",
              "\n",
              "      Interest Coverage Ratio  Success  \n",
              "0                   -0.897682        0  \n",
              "1                   -1.449798        0  \n",
              "2                  133.708784        0  \n",
              "3                  -30.956086        0  \n",
              "4                  -11.110553        0  \n",
              "...                       ...      ...  \n",
              "2784              -102.976230        1  \n",
              "2785               -18.610165        1  \n",
              "2786               -10.463168        1  \n",
              "2787               -18.796585        1  \n",
              "2788               -13.172190        1  \n",
              "\n",
              "[2789 rows x 6 columns]"
            ],
            "text/html": [
              "\n",
              "  <div id=\"df-77eadb97-beef-45d9-b0dc-a96d1e5f6c44\">\n",
              "    <div class=\"colab-df-container\">\n",
              "      <div>\n",
              "<style scoped>\n",
              "    .dataframe tbody tr th:only-of-type {\n",
              "        vertical-align: middle;\n",
              "    }\n",
              "\n",
              "    .dataframe tbody tr th {\n",
              "        vertical-align: top;\n",
              "    }\n",
              "\n",
              "    .dataframe thead th {\n",
              "        text-align: right;\n",
              "    }\n",
              "</style>\n",
              "<table border=\"1\" class=\"dataframe\">\n",
              "  <thead>\n",
              "    <tr style=\"text-align: right;\">\n",
              "      <th></th>\n",
              "      <th>Current Ratio</th>\n",
              "      <th>LTD-to-Earnings</th>\n",
              "      <th>ROE</th>\n",
              "      <th>Debt-to-EBIT</th>\n",
              "      <th>Interest Coverage Ratio</th>\n",
              "      <th>Success</th>\n",
              "    </tr>\n",
              "  </thead>\n",
              "  <tbody>\n",
              "    <tr>\n",
              "      <th>0</th>\n",
              "      <td>0.825258</td>\n",
              "      <td>20.891362</td>\n",
              "      <td>-0.131222</td>\n",
              "      <td>11.092567</td>\n",
              "      <td>-0.897682</td>\n",
              "      <td>0</td>\n",
              "    </tr>\n",
              "    <tr>\n",
              "      <th>1</th>\n",
              "      <td>0.609247</td>\n",
              "      <td>10.645033</td>\n",
              "      <td>-0.161652</td>\n",
              "      <td>12.567976</td>\n",
              "      <td>-1.449798</td>\n",
              "      <td>0</td>\n",
              "    </tr>\n",
              "    <tr>\n",
              "      <th>2</th>\n",
              "      <td>1.077736</td>\n",
              "      <td>-0.007646</td>\n",
              "      <td>-6.051103</td>\n",
              "      <td>-0.061062</td>\n",
              "      <td>133.708784</td>\n",
              "      <td>0</td>\n",
              "    </tr>\n",
              "    <tr>\n",
              "      <th>3</th>\n",
              "      <td>3.076256</td>\n",
              "      <td>0.764622</td>\n",
              "      <td>0.053438</td>\n",
              "      <td>-1.251241</td>\n",
              "      <td>-30.956086</td>\n",
              "      <td>0</td>\n",
              "    </tr>\n",
              "    <tr>\n",
              "      <th>4</th>\n",
              "      <td>1.700701</td>\n",
              "      <td>3.536409</td>\n",
              "      <td>0.137031</td>\n",
              "      <td>3.211887</td>\n",
              "      <td>-11.110553</td>\n",
              "      <td>0</td>\n",
              "    </tr>\n",
              "    <tr>\n",
              "      <th>...</th>\n",
              "      <td>...</td>\n",
              "      <td>...</td>\n",
              "      <td>...</td>\n",
              "      <td>...</td>\n",
              "      <td>...</td>\n",
              "      <td>...</td>\n",
              "    </tr>\n",
              "    <tr>\n",
              "      <th>2784</th>\n",
              "      <td>1.959866</td>\n",
              "      <td>0.126012</td>\n",
              "      <td>0.190191</td>\n",
              "      <td>0.132326</td>\n",
              "      <td>-102.976230</td>\n",
              "      <td>1</td>\n",
              "    </tr>\n",
              "    <tr>\n",
              "      <th>2785</th>\n",
              "      <td>1.435974</td>\n",
              "      <td>1.475857</td>\n",
              "      <td>0.520787</td>\n",
              "      <td>1.625763</td>\n",
              "      <td>-18.610165</td>\n",
              "      <td>1</td>\n",
              "    </tr>\n",
              "    <tr>\n",
              "      <th>2786</th>\n",
              "      <td>1.780117</td>\n",
              "      <td>0.974716</td>\n",
              "      <td>0.315939</td>\n",
              "      <td>0.852951</td>\n",
              "      <td>-10.463168</td>\n",
              "      <td>1</td>\n",
              "    </tr>\n",
              "    <tr>\n",
              "      <th>2787</th>\n",
              "      <td>1.629907</td>\n",
              "      <td>0.837688</td>\n",
              "      <td>0.253403</td>\n",
              "      <td>0.952719</td>\n",
              "      <td>-18.796585</td>\n",
              "      <td>1</td>\n",
              "    </tr>\n",
              "    <tr>\n",
              "      <th>2788</th>\n",
              "      <td>1.374822</td>\n",
              "      <td>1.149173</td>\n",
              "      <td>0.196592</td>\n",
              "      <td>1.061574</td>\n",
              "      <td>-13.172190</td>\n",
              "      <td>1</td>\n",
              "    </tr>\n",
              "  </tbody>\n",
              "</table>\n",
              "<p>2789 rows × 6 columns</p>\n",
              "</div>\n",
              "      <button class=\"colab-df-convert\" onclick=\"convertToInteractive('df-77eadb97-beef-45d9-b0dc-a96d1e5f6c44')\"\n",
              "              title=\"Convert this dataframe to an interactive table.\"\n",
              "              style=\"display:none;\">\n",
              "        \n",
              "  <svg xmlns=\"http://www.w3.org/2000/svg\" height=\"24px\"viewBox=\"0 0 24 24\"\n",
              "       width=\"24px\">\n",
              "    <path d=\"M0 0h24v24H0V0z\" fill=\"none\"/>\n",
              "    <path d=\"M18.56 5.44l.94 2.06.94-2.06 2.06-.94-2.06-.94-.94-2.06-.94 2.06-2.06.94zm-11 1L8.5 8.5l.94-2.06 2.06-.94-2.06-.94L8.5 2.5l-.94 2.06-2.06.94zm10 10l.94 2.06.94-2.06 2.06-.94-2.06-.94-.94-2.06-.94 2.06-2.06.94z\"/><path d=\"M17.41 7.96l-1.37-1.37c-.4-.4-.92-.59-1.43-.59-.52 0-1.04.2-1.43.59L10.3 9.45l-7.72 7.72c-.78.78-.78 2.05 0 2.83L4 21.41c.39.39.9.59 1.41.59.51 0 1.02-.2 1.41-.59l7.78-7.78 2.81-2.81c.8-.78.8-2.07 0-2.86zM5.41 20L4 18.59l7.72-7.72 1.47 1.35L5.41 20z\"/>\n",
              "  </svg>\n",
              "      </button>\n",
              "      \n",
              "  <style>\n",
              "    .colab-df-container {\n",
              "      display:flex;\n",
              "      flex-wrap:wrap;\n",
              "      gap: 12px;\n",
              "    }\n",
              "\n",
              "    .colab-df-convert {\n",
              "      background-color: #E8F0FE;\n",
              "      border: none;\n",
              "      border-radius: 50%;\n",
              "      cursor: pointer;\n",
              "      display: none;\n",
              "      fill: #1967D2;\n",
              "      height: 32px;\n",
              "      padding: 0 0 0 0;\n",
              "      width: 32px;\n",
              "    }\n",
              "\n",
              "    .colab-df-convert:hover {\n",
              "      background-color: #E2EBFA;\n",
              "      box-shadow: 0px 1px 2px rgba(60, 64, 67, 0.3), 0px 1px 3px 1px rgba(60, 64, 67, 0.15);\n",
              "      fill: #174EA6;\n",
              "    }\n",
              "\n",
              "    [theme=dark] .colab-df-convert {\n",
              "      background-color: #3B4455;\n",
              "      fill: #D2E3FC;\n",
              "    }\n",
              "\n",
              "    [theme=dark] .colab-df-convert:hover {\n",
              "      background-color: #434B5C;\n",
              "      box-shadow: 0px 1px 3px 1px rgba(0, 0, 0, 0.15);\n",
              "      filter: drop-shadow(0px 1px 2px rgba(0, 0, 0, 0.3));\n",
              "      fill: #FFFFFF;\n",
              "    }\n",
              "  </style>\n",
              "\n",
              "      <script>\n",
              "        const buttonEl =\n",
              "          document.querySelector('#df-77eadb97-beef-45d9-b0dc-a96d1e5f6c44 button.colab-df-convert');\n",
              "        buttonEl.style.display =\n",
              "          google.colab.kernel.accessAllowed ? 'block' : 'none';\n",
              "\n",
              "        async function convertToInteractive(key) {\n",
              "          const element = document.querySelector('#df-77eadb97-beef-45d9-b0dc-a96d1e5f6c44');\n",
              "          const dataTable =\n",
              "            await google.colab.kernel.invokeFunction('convertToInteractive',\n",
              "                                                     [key], {});\n",
              "          if (!dataTable) return;\n",
              "\n",
              "          const docLinkHtml = 'Like what you see? Visit the ' +\n",
              "            '<a target=\"_blank\" href=https://colab.research.google.com/notebooks/data_table.ipynb>data table notebook</a>'\n",
              "            + ' to learn more about interactive tables.';\n",
              "          element.innerHTML = '';\n",
              "          dataTable['output_type'] = 'display_data';\n",
              "          await google.colab.output.renderOutput(dataTable, element);\n",
              "          const docLink = document.createElement('div');\n",
              "          docLink.innerHTML = docLinkHtml;\n",
              "          element.appendChild(docLink);\n",
              "        }\n",
              "      </script>\n",
              "    </div>\n",
              "  </div>\n",
              "  "
            ]
          },
          "metadata": {},
          "execution_count": 31
        }
      ]
    },
    {
      "cell_type": "code",
      "source": [
        "sns.heatmap(DATA_NEW.corr(),annot=True)\n"
      ],
      "metadata": {
        "colab": {
          "base_uri": "https://localhost:8080/",
          "height": 394
        },
        "id": "CBJ9VkSRN6Y6",
        "outputId": "18d63967-14b1-4182-95cf-95d144ac5d10"
      },
      "execution_count": null,
      "outputs": [
        {
          "output_type": "execute_result",
          "data": {
            "text/plain": [
              "<matplotlib.axes._subplots.AxesSubplot at 0x7efda6122790>"
            ]
          },
          "metadata": {},
          "execution_count": 32
        },
        {
          "output_type": "display_data",
          "data": {
            "text/plain": [
              "<Figure size 432x288 with 2 Axes>"
            ],
            "image/png": "[encoded data removed]"
          },
          "metadata": {
            "needs_background": "light"
          }
        }
      ]
    },
    {
      "cell_type": "markdown",
      "source": [
        "Feature Importance"
      ],
      "metadata": {
        "id": "2lpup_F8O_CL"
      }
    },
    {
      "cell_type": "code",
      "source": [
        "from sklearn.model_selection import train_test_split\n",
        "X_train, X_test, y_train, y_test = train_test_split(DATA_NEW.loc[:, FEATURES], DATA_NEW.loc[:, RESPONSE], test_size=0.2, random_state=0)\n"
      ],
      "metadata": {
        "id": "f-uFq7-JO9CT"
      },
      "execution_count": null,
      "outputs": []
    },
    {
      "cell_type": "code",
      "source": [
        "y_train.head()"
      ],
      "metadata": {
        "colab": {
          "base_uri": "https://localhost:8080/"
        },
        "id": "LFQZnsrxPSwr",
        "outputId": "fdef8cf6-2a37-45c8-8234-7fc9bbb7f824"
      },
      "execution_count": null,
      "outputs": [
        {
          "output_type": "execute_result",
          "data": {
            "text/plain": [
              "487     0\n",
              "2027    1\n",
              "438     0\n",
              "1759    1\n",
              "1669    0\n",
              "Name: Success, dtype: int64"
            ]
          },
          "metadata": {},
          "execution_count": 34
        }
      ]
    },
    {
      "cell_type": "code",
      "source": [
        "from sklearn.ensemble import RandomForestClassifier # importing the random forest module\n",
        "\n",
        "rf_model = RandomForestClassifier(random_state=0) # define the random forest model\n",
        "\n",
        "rf_model.fit(X_train, y_train) # fit the random forest model\n",
        "\n",
        "importances = rf_model.feature_importances_ # get importance\n",
        "\n",
        "indices = np.argsort(importances) # sort the features' index by their importance scores\n"
      ],
      "metadata": {
        "id": "umWjzPxCLSao"
      },
      "execution_count": null,
      "outputs": []
    },
    {
      "cell_type": "code",
      "source": [
        "plt.title('Feature Importances in the Random Forest Model')\n",
        "plt.barh(range(len(indices)), importances[indices], align='center')\n",
        "plt.yticks(range(len(indices)), [FEATURES[i] for i in indices])\n",
        "plt.xlabel('Relative Importance')\n"
      ],
      "metadata": {
        "colab": {
          "base_uri": "https://localhost:8080/",
          "height": 312
        },
        "id": "-q90oxRIMA3v",
        "outputId": "5ffbd359-71eb-49c5-bb7f-72e9ae050ea4"
      },
      "execution_count": null,
      "outputs": [
        {
          "output_type": "execute_result",
          "data": {
            "text/plain": [
              "Text(0.5, 0, 'Relative Importance')"
            ]
          },
          "metadata": {},
          "execution_count": 36
        },
        {
          "output_type": "display_data",
          "data": {
            "text/plain": [
              "<Figure size 432x288 with 1 Axes>"
            ],
            "image/png": "[encoded data removed]"
          },
          "metadata": {
            "needs_background": "light"
          }
        }
      ]
    },
    {
      "cell_type": "markdown",
      "source": [
        "Logistic Regression Model"
      ],
      "metadata": {
        "id": "y8GPfH30tQkT"
      }
    },
    {
      "cell_type": "code",
      "source": [
        "from sklearn.linear_model import LogisticRegression\n",
        "\n",
        "lr_model = LogisticRegression(random_state = 0).fit(X_train,y_train)\n",
        "\n",
        "prediction = lr_model.predict(X_test)\n",
        "\n",
        "\n"
      ],
      "metadata": {
        "id": "o0za64QdUxqj"
      },
      "execution_count": null,
      "outputs": []
    },
    {
      "cell_type": "code",
      "source": [
        "from sklearn.metrics import plot_confusion_matrix\n",
        "plot_confusion_matrix(lr_model, X_test, y_test)\n",
        "plt.title(\"Confusion Matrix\")\n"
      ],
      "metadata": {
        "colab": {
          "base_uri": "https://localhost:8080/",
          "height": 367
        },
        "id": "ag8DFsIdWiw8",
        "outputId": "1c630f98-cf08-4fa8-cbea-bf64f0bb9b03"
      },
      "execution_count": null,
      "outputs": [
        {
          "output_type": "stream",
          "name": "stderr",
          "text": [
            "/usr/local/lib/python3.8/dist-packages/sklearn/utils/deprecation.py:87: FutureWarning: Function plot_confusion_matrix is deprecated; Function `plot_confusion_matrix` is deprecated in 1.0 and will be removed in 1.2. Use one of the class methods: ConfusionMatrixDisplay.from_predictions or ConfusionMatrixDisplay.from_estimator.\n",
            "  warnings.warn(msg, category=FutureWarning)\n"
          ]
        },
        {
          "output_type": "execute_result",
          "data": {
            "text/plain": [
              "Text(0.5, 1.0, 'Confusion Matrix')"
            ]
          },
          "metadata": {},
          "execution_count": 38
        },
        {
          "output_type": "display_data",
          "data": {
            "text/plain": [
              "<Figure size 432x288 with 2 Axes>"
            ],
            "image/png": "[encoded data removed]"
          },
          "metadata": {
            "needs_background": "light"
          }
        }
      ]
    },
    {
      "cell_type": "code",
      "source": [
        "print('training accuracy score:', lr_model.score(X_train,y_train))\n",
        "print('testing accuracy score:', lr_model.score(X_test,y_test))\n"
      ],
      "metadata": {
        "colab": {
          "base_uri": "https://localhost:8080/"
        },
        "id": "s7K57hj1Y_wg",
        "outputId": "f1ef97c2-3c3c-49c1-c776-b3589150100d"
      },
      "execution_count": null,
      "outputs": [
        {
          "output_type": "stream",
          "name": "stdout",
          "text": [
            "training accuracy score: 0.7261317794710892\n",
            "testing accuracy score: 0.6989247311827957\n"
          ]
        }
      ]
    },
    {
      "cell_type": "code",
      "source": [
        "from sklearn.metrics import classification_report\n",
        "print(classification_report(y_test,prediction))\n"
      ],
      "metadata": {
        "colab": {
          "base_uri": "https://localhost:8080/"
        },
        "id": "KiSsCJmbZ9n_",
        "outputId": "9ef60812-fdda-4be7-c3d7-be87004f6a61"
      },
      "execution_count": null,
      "outputs": [
        {
          "output_type": "stream",
          "name": "stdout",
          "text": [
            "              precision    recall  f1-score   support\n",
            "\n",
            "           0       0.69      0.94      0.79       341\n",
            "           1       0.77      0.32      0.45       217\n",
            "\n",
            "    accuracy                           0.70       558\n",
            "   macro avg       0.73      0.63      0.62       558\n",
            "weighted avg       0.72      0.70      0.66       558\n",
            "\n"
          ]
        }
      ]
    },
    {
      "cell_type": "code",
      "source": [
        "from sklearn.metrics import roc_curve\n",
        "lr_probs = lr_model.predict_proba(X_test) # calculate the probabilities of the class for the test dataset using ‘predict_proba’\n",
        "# generate a positive direction prediction (majority class)\n",
        "ns_probs = [1 for _ in range(len(y_test))]\n",
        "# keep probabilities for the positive direction only\n",
        "lr_probs = lr_probs[:, 1]\n",
        "# calculate roc curves\n",
        "ns_fpr, ns_tpr, _ = roc_curve(y_test, ns_probs)\n",
        "lr_fpr, lr_tpr, _ = roc_curve(y_test, lr_probs)\n",
        "# plot the roc curve for the model\n",
        "plt.plot(ns_fpr, ns_tpr, linestyle='--', label='No Skill Classifier')\n",
        "plt.plot(lr_fpr, lr_tpr, marker='.', label='Logistic Classifier')\n",
        "# axis labels\n",
        "plt.title('ROC Curve')\n",
        "plt.xlabel('False Positive Rate')\n",
        "plt.ylabel('True Positive Rate')\n",
        "# show the legend\n",
        "plt.legend()\n",
        "# show the plot\n",
        "plt.show()\n"
      ],
      "metadata": {
        "colab": {
          "base_uri": "https://localhost:8080/",
          "height": 295
        },
        "id": "Lin677dxfzlm",
        "outputId": "3b0751cf-66b8-44d9-db25-81d5f92eab35"
      },
      "execution_count": null,
      "outputs": [
        {
          "output_type": "display_data",
          "data": {
            "text/plain": [
              "<Figure size 432x288 with 1 Axes>"
            ],
            "image/png": "[encoded data removed]"
          },
          "metadata": {
            "needs_background": "light"
          }
        }
      ]
    },
    {
      "cell_type": "code",
      "source": [
        "ns_auc = roc_auc_score(y_test, ns_probs)\n",
        "lr_auc = roc_auc_score(y_test, lr_probs)\n",
        "# summarize scores\n",
        "print('No Skill Classifier: ROC AUC=%.3f' % (ns_auc))\n",
        "print('Logistic Classifier: ROC AUC=%.3f' % (lr_auc))"
      ],
      "metadata": {
        "id": "7y2A1a-PhDbn",
        "outputId": "afeef7d0-f2fb-4840-c45a-98d51a2aea49",
        "colab": {
          "base_uri": "https://localhost:8080/"
        }
      },
      "execution_count": null,
      "outputs": [
        {
          "output_type": "stream",
          "name": "stdout",
          "text": [
            "No Skill Classifier: ROC AUC=0.500\n",
            "Logistic Classifier: ROC AUC=0.871\n"
          ]
        }
      ]
    },
    {
      "cell_type": "markdown",
      "source": [
        "KNN Model"
      ],
      "metadata": {
        "id": "Cu-k9AHVtT5E"
      }
    },
    {
      "cell_type": "code",
      "source": [
        "# importing KNN algorithm\n",
        "from sklearn.neighbors import KNeighborsClassifier\n",
        "\n",
        "\n",
        "# K value set to be 6\n",
        "knn_model = KNeighborsClassifier(n_neighbors=6)\n",
        "\n",
        "# model training\n",
        "knn_model.fit(X_train,y_train)\n",
        "\n",
        "# testing the model\n",
        "KNN_Prediction = knn_model.predict(X_test)\n",
        "\n",
        "\n",
        "\n"
      ],
      "metadata": {
        "id": "a7ZveKxedoLs"
      },
      "execution_count": null,
      "outputs": []
    },
    {
      "cell_type": "code",
      "source": [
        "plot_confusion_matrix(knn_model, X_test,y_test)\n",
        "plt.title(\"KNN Confusion Matrix\")"
      ],
      "metadata": {
        "colab": {
          "base_uri": "https://localhost:8080/",
          "height": 367
        },
        "id": "vxahRRuZtjAr",
        "outputId": "53fea86b-56cf-4adf-e149-5bf185694222"
      },
      "execution_count": null,
      "outputs": [
        {
          "output_type": "stream",
          "name": "stderr",
          "text": [
            "/usr/local/lib/python3.8/dist-packages/sklearn/utils/deprecation.py:87: FutureWarning: Function plot_confusion_matrix is deprecated; Function `plot_confusion_matrix` is deprecated in 1.0 and will be removed in 1.2. Use one of the class methods: ConfusionMatrixDisplay.from_predictions or ConfusionMatrixDisplay.from_estimator.\n",
            "  warnings.warn(msg, category=FutureWarning)\n"
          ]
        },
        {
          "output_type": "execute_result",
          "data": {
            "text/plain": [
              "Text(0.5, 1.0, 'KNN Confusion Matrix')"
            ]
          },
          "metadata": {},
          "execution_count": 53
        },
        {
          "output_type": "display_data",
          "data": {
            "text/plain": [
              "<Figure size 432x288 with 2 Axes>"
            ],
            "image/png": "[encoded data removed]"
          },
          "metadata": {
            "needs_background": "light"
          }
        }
      ]
    },
    {
      "cell_type": "code",
      "source": [
        "print('training accuracy score:', knn_model.score(X_train,y_train))\n",
        "print('testing accuracy score:', knn_model.score(X_test,y_test))"
      ],
      "metadata": {
        "colab": {
          "base_uri": "https://localhost:8080/"
        },
        "id": "V6engg0CuSZ-",
        "outputId": "67822ea9-f409-43d6-a51f-89f2ba4e0afb"
      },
      "execution_count": null,
      "outputs": [
        {
          "output_type": "stream",
          "name": "stdout",
          "text": [
            "training accuracy score: 0.9143881667413716\n",
            "testing accuracy score: 0.8942652329749103\n"
          ]
        }
      ]
    },
    {
      "cell_type": "code",
      "source": [
        "print(classification_report(y_test,KNN_Prediction))"
      ],
      "metadata": {
        "colab": {
          "base_uri": "https://localhost:8080/"
        },
        "id": "S9iko-xyupOw",
        "outputId": "4dfa74dc-ebc9-43d4-a864-b044f8f17f04"
      },
      "execution_count": null,
      "outputs": [
        {
          "output_type": "stream",
          "name": "stdout",
          "text": [
            "              precision    recall  f1-score   support\n",
            "\n",
            "           0       0.91      0.91      0.91       341\n",
            "           1       0.87      0.86      0.86       217\n",
            "\n",
            "    accuracy                           0.89       558\n",
            "   macro avg       0.89      0.89      0.89       558\n",
            "weighted avg       0.89      0.89      0.89       558\n",
            "\n"
          ]
        }
      ]
    },
    {
      "cell_type": "code",
      "source": [
        "knn_probs = knn_model.predict_proba(X_test) # calculate the probabilities of the class for the test dataset using ‘predict_proba’\n",
        "# generate a positive direction prediction (majority class)\n",
        "ns_probs = [1 for _ in range(len(y_test))]\n",
        "# keep probabilities for the positive direction only\n",
        "knn_probs = knn_probs[:, 1]\n",
        "# calculate roc curves\n",
        "ns_fpr, ns_tpr, _ = roc_curve(y_test, ns_probs)\n",
        "knn_fpr, knn_tpr, _ = roc_curve(y_test, knn_probs)\n",
        "# plot the roc curve for the model\n",
        "plt.plot(ns_fpr, ns_tpr, linestyle='--', label='No Skill Classifier')\n",
        "plt.plot(knn_fpr, knn_tpr, marker='.', label='KNN Classifier')\n",
        "# axis labels\n",
        "plt.title('ROC Curve')\n",
        "plt.xlabel('False Positive Rate')\n",
        "plt.ylabel('True Positive Rate')\n",
        "# show the legend\n",
        "plt.legend()\n",
        "# show the plot\n",
        "plt.show()"
      ],
      "metadata": {
        "colab": {
          "base_uri": "https://localhost:8080/",
          "height": 295
        },
        "id": "Xhmh7kE-u5fp",
        "outputId": "0a3bd050-91a4-4e9e-c8bf-f3d63fa863a2"
      },
      "execution_count": null,
      "outputs": [
        {
          "output_type": "display_data",
          "data": {
            "text/plain": [
              "<Figure size 432x288 with 1 Axes>"
            ],
            "image/png": "[encoded data removed]"
          },
          "metadata": {
            "needs_background": "light"
          }
        }
      ]
    },
    {
      "cell_type": "code",
      "source": [
        "ns_auc = roc_auc_score(y_test, ns_probs)\n",
        "knn_auc = roc_auc_score(y_test, knn_probs)\n",
        "# summarize scores\n",
        "print('No Skill Classifier: ROC AUC=%.3f' % (ns_auc))\n",
        "print('Logistic Classifier: ROC AUC=%.3f' % (knn_auc))"
      ],
      "metadata": {
        "colab": {
          "base_uri": "https://localhost:8080/"
        },
        "id": "3Z1tvMoQvZ1n",
        "outputId": "6234e94a-8c13-4e8c-f7f0-11780399b43d"
      },
      "execution_count": null,
      "outputs": [
        {
          "output_type": "stream",
          "name": "stdout",
          "text": [
            "No Skill Classifier: ROC AUC=0.500\n",
            "Logistic Classifier: ROC AUC=0.949\n"
          ]
        }
      ]
    },
    {
      "cell_type": "markdown",
      "source": [
        "Random Forest Model"
      ],
      "metadata": {
        "id": "kGf0PFu2tZfN"
      }
    },
    {
      "cell_type": "code",
      "source": [
        "# import Random Forest classifier\n",
        "from sklearn.ensemble import RandomForestClassifier\n",
        "\n",
        "# instantiate the classifier\n",
        "rf_model = RandomForestClassifier()\n",
        "\n",
        "# fit the model\n",
        "rf_model.fit(X_train, y_train)\n",
        "\n",
        "# testing the model\n",
        "RF_Prediction = rf_model.predict(X_test)\n",
        "\n"
      ],
      "metadata": {
        "id": "Y3Gwq6p3gGSu"
      },
      "execution_count": null,
      "outputs": []
    },
    {
      "cell_type": "code",
      "source": [
        "plot_confusion_matrix(rf_model, X_test,y_test)\n",
        "plt.title(\"Random Forest Confusion Matrix\")"
      ],
      "metadata": {
        "colab": {
          "base_uri": "https://localhost:8080/",
          "height": 367
        },
        "id": "V_80It8wvn0y",
        "outputId": "f72ed296-3988-427c-eaa2-88f688ebd673"
      },
      "execution_count": null,
      "outputs": [
        {
          "output_type": "stream",
          "name": "stderr",
          "text": [
            "/usr/local/lib/python3.8/dist-packages/sklearn/utils/deprecation.py:87: FutureWarning: Function plot_confusion_matrix is deprecated; Function `plot_confusion_matrix` is deprecated in 1.0 and will be removed in 1.2. Use one of the class methods: ConfusionMatrixDisplay.from_predictions or ConfusionMatrixDisplay.from_estimator.\n",
            "  warnings.warn(msg, category=FutureWarning)\n"
          ]
        },
        {
          "output_type": "execute_result",
          "data": {
            "text/plain": [
              "Text(0.5, 1.0, 'Random Forest Confusion Matrix')"
            ]
          },
          "metadata": {},
          "execution_count": 64
        },
        {
          "output_type": "display_data",
          "data": {
            "text/plain": [
              "<Figure size 432x288 with 2 Axes>"
            ],
            "image/png": "[encoded data removed]"
          },
          "metadata": {
            "needs_background": "light"
          }
        }
      ]
    },
    {
      "cell_type": "code",
      "source": [
        "print('training accuracy score:', rf_model.score(X_train,y_train))\n",
        "print('testing accuracy score:', rf_model.score(X_test,y_test))"
      ],
      "metadata": {
        "colab": {
          "base_uri": "https://localhost:8080/"
        },
        "id": "5_y4lIG1vuV2",
        "outputId": "60759002-c7f1-4371-f819-7761752a5ccc"
      },
      "execution_count": null,
      "outputs": [
        {
          "output_type": "stream",
          "name": "stdout",
          "text": [
            "training accuracy score: 1.0\n",
            "testing accuracy score: 1.0\n"
          ]
        }
      ]
    },
    {
      "cell_type": "code",
      "source": [
        "print(classification_report(y_test,RF_Prediction))"
      ],
      "metadata": {
        "colab": {
          "base_uri": "https://localhost:8080/"
        },
        "id": "OOLYIMaav1dc",
        "outputId": "61eaa3d6-d0e1-4e71-a2db-09aaccf86c01"
      },
      "execution_count": null,
      "outputs": [
        {
          "output_type": "stream",
          "name": "stdout",
          "text": [
            "              precision    recall  f1-score   support\n",
            "\n",
            "           0       1.00      1.00      1.00       341\n",
            "           1       1.00      1.00      1.00       217\n",
            "\n",
            "    accuracy                           1.00       558\n",
            "   macro avg       1.00      1.00      1.00       558\n",
            "weighted avg       1.00      1.00      1.00       558\n",
            "\n"
          ]
        }
      ]
    },
    {
      "cell_type": "code",
      "source": [
        "rf_probs = rf_model.predict_proba(X_test) # calculate the probabilities of the class for the test dataset using ‘predict_proba’\n",
        "# generate a positive direction prediction (majority class)\n",
        "ns_probs = [1 for _ in range(len(y_test))]\n",
        "# keep probabilities for the positive direction only\n",
        "rf_probs = rf_probs[:, 1]\n",
        "# calculate roc curves\n",
        "ns_fpr, ns_tpr, _ = roc_curve(y_test, ns_probs)\n",
        "rf_fpr, rf_tpr, _ = roc_curve(y_test, rf_probs)\n",
        "# plot the roc curve for the model\n",
        "plt.plot(ns_fpr, ns_tpr, linestyle='--', label='No Skill Classifier')\n",
        "plt.plot(rf_fpr, rf_tpr, marker='.', label='Random Forest Classifier')\n",
        "# axis labels\n",
        "plt.title('ROC Curve')\n",
        "plt.xlabel('False Positive Rate')\n",
        "plt.ylabel('True Positive Rate')\n",
        "# show the legend\n",
        "plt.legend()\n",
        "# show the plot\n",
        "plt.show()"
      ],
      "metadata": {
        "colab": {
          "base_uri": "https://localhost:8080/",
          "height": 295
        },
        "id": "HssHY0rIwB6O",
        "outputId": "379b58e9-6cf9-453f-d7d6-99b562c14c43"
      },
      "execution_count": null,
      "outputs": [
        {
          "output_type": "display_data",
          "data": {
            "text/plain": [
              "<Figure size 432x288 with 1 Axes>"
            ],
            "image/png": "[encoded data removed]"
          },
          "metadata": {
            "needs_background": "light"
          }
        }
      ]
    },
    {
      "cell_type": "code",
      "source": [
        "ns_auc = roc_auc_score(y_test, ns_probs)\n",
        "rf_auc = roc_auc_score(y_test, rf_probs)\n",
        "# summarize scores\n",
        "print('No Skill Classifier: ROC AUC=%.3f' % (ns_auc))\n",
        "print('Random Forest Classifier: ROC AUC=%.3f' % (rf_auc))"
      ],
      "metadata": {
        "colab": {
          "base_uri": "https://localhost:8080/"
        },
        "id": "LwfkdYwLwB0t",
        "outputId": "b448158f-aff6-4e4a-c0f0-b2b6c10a1dba"
      },
      "execution_count": null,
      "outputs": [
        {
          "output_type": "stream",
          "name": "stdout",
          "text": [
            "No Skill Classifier: ROC AUC=0.500\n",
            "Random Forest Classifier: ROC AUC=1.000\n"
          ]
        }
      ]
    },
    {
      "cell_type": "markdown",
      "source": [
        "Decision Tree Model"
      ],
      "metadata": {
        "id": "vZiBVuTGxI8M"
      }
    },
    {
      "cell_type": "code",
      "source": [
        "from sklearn.tree import DecisionTreeClassifier\n",
        "dt_model = DecisionTreeClassifier()\n",
        "dt_model = dt_model.fit(X_train,y_train)\n",
        "dt_pred = dt_model.predict(X_test)"
      ],
      "metadata": {
        "id": "QM2teOJcxLpa"
      },
      "execution_count": null,
      "outputs": []
    },
    {
      "cell_type": "code",
      "source": [
        "plot_confusion_matrix(dt_model, X_test,y_test)\n",
        "plt.title(\"Decision Tree Confusion Matrix\")"
      ],
      "metadata": {
        "colab": {
          "base_uri": "https://localhost:8080/",
          "height": 367
        },
        "id": "BkOCiegYyPGM",
        "outputId": "e9df5253-cba7-41aa-ff3e-36143fd035fa"
      },
      "execution_count": null,
      "outputs": [
        {
          "output_type": "stream",
          "name": "stderr",
          "text": [
            "/usr/local/lib/python3.8/dist-packages/sklearn/utils/deprecation.py:87: FutureWarning: Function plot_confusion_matrix is deprecated; Function `plot_confusion_matrix` is deprecated in 1.0 and will be removed in 1.2. Use one of the class methods: ConfusionMatrixDisplay.from_predictions or ConfusionMatrixDisplay.from_estimator.\n",
            "  warnings.warn(msg, category=FutureWarning)\n"
          ]
        },
        {
          "output_type": "execute_result",
          "data": {
            "text/plain": [
              "Text(0.5, 1.0, 'Decision Tree Confusion Matrix')"
            ]
          },
          "metadata": {},
          "execution_count": 71
        },
        {
          "output_type": "display_data",
          "data": {
            "text/plain": [
              "<Figure size 432x288 with 2 Axes>"
            ],
            "image/png": "[encoded data removed]"
          },
          "metadata": {
            "needs_background": "light"
          }
        }
      ]
    },
    {
      "cell_type": "code",
      "source": [
        "print('training accuracy score:', dt_model.score(X_train,y_train))\n",
        "print('testing accuracy score:', dt_model.score(X_test,y_test))"
      ],
      "metadata": {
        "colab": {
          "base_uri": "https://localhost:8080/"
        },
        "id": "yeoi47vgyX60",
        "outputId": "3143a666-d877-4fdf-b8f4-b35ca2a7fca7"
      },
      "execution_count": null,
      "outputs": [
        {
          "output_type": "stream",
          "name": "stdout",
          "text": [
            "training accuracy score: 1.0\n",
            "testing accuracy score: 1.0\n"
          ]
        }
      ]
    },
    {
      "cell_type": "code",
      "source": [
        "print(classification_report(y_test,dt_pred))"
      ],
      "metadata": {
        "colab": {
          "base_uri": "https://localhost:8080/"
        },
        "id": "s3zdZN1mykF-",
        "outputId": "5cb118fa-ecd6-4a5c-cdce-9567bdb3df80"
      },
      "execution_count": null,
      "outputs": [
        {
          "output_type": "stream",
          "name": "stdout",
          "text": [
            "              precision    recall  f1-score   support\n",
            "\n",
            "           0       1.00      1.00      1.00       341\n",
            "           1       1.00      1.00      1.00       217\n",
            "\n",
            "    accuracy                           1.00       558\n",
            "   macro avg       1.00      1.00      1.00       558\n",
            "weighted avg       1.00      1.00      1.00       558\n",
            "\n"
          ]
        }
      ]
    },
    {
      "cell_type": "code",
      "source": [
        "dt_probs = dt_model.predict_proba(X_test) # calculate the probabilities of the class for the test dataset using ‘predict_proba’\n",
        "# generate a positive direction prediction (majority class)\n",
        "ns_probs = [1 for _ in range(len(y_test))]\n",
        "# keep probabilities for the positive direction only\n",
        "dt_probs = dt_probs[:, 1]\n",
        "# calculate roc curves\n",
        "ns_fpr, ns_tpr, _ = roc_curve(y_test, ns_probs)\n",
        "dt_fpr, dt_tpr, _ = roc_curve(y_test, dt_probs)\n",
        "# plot the roc curve for the model\n",
        "plt.plot(ns_fpr, ns_tpr, linestyle='--', label='No Skill Classifier')\n",
        "plt.plot(dt_fpr, dt_tpr, marker='.', label='Decision Tree Classifier')\n",
        "# axis labels\n",
        "plt.title('ROC Curve')\n",
        "plt.xlabel('False Positive Rate')\n",
        "plt.ylabel('True Positive Rate')\n",
        "# show the legend\n",
        "plt.legend()\n",
        "# show the plot\n",
        "plt.show()"
      ],
      "metadata": {
        "colab": {
          "base_uri": "https://localhost:8080/",
          "height": 295
        },
        "id": "XFV3ncDSzJAM",
        "outputId": "74842321-866f-4859-fbf1-24b816be1db7"
      },
      "execution_count": null,
      "outputs": [
        {
          "output_type": "display_data",
          "data": {
            "text/plain": [
              "<Figure size 432x288 with 1 Axes>"
            ],
            "image/png": "[encoded data removed]"
          },
          "metadata": {
            "needs_background": "light"
          }
        }
      ]
    },
    {
      "cell_type": "code",
      "source": [
        "ns_auc = roc_auc_score(y_test, ns_probs)\n",
        "dt_auc = roc_auc_score(y_test, dt_probs)\n",
        "# summarize scores\n",
        "print('No Skill Classifier: ROC AUC=%.3f' % (ns_auc))\n",
        "print('Decision Tree Classifier: ROC AUC=%.3f' % (dt_auc))"
      ],
      "metadata": {
        "colab": {
          "base_uri": "https://localhost:8080/"
        },
        "id": "T5d_0PNpzeGh",
        "outputId": "43a0a701-751d-4132-8b64-10cb3623132a"
      },
      "execution_count": null,
      "outputs": [
        {
          "output_type": "stream",
          "name": "stdout",
          "text": [
            "No Skill Classifier: ROC AUC=0.500\n",
            "Decision Tree Classifier: ROC AUC=1.000\n"
          ]
        }
      ]
    },
    {
      "cell_type": "markdown",
      "source": [
        "Boosting Model"
      ],
      "metadata": {
        "id": "KJO-P6Rcwetc"
      }
    },
    {
      "cell_type": "code",
      "source": [
        "from sklearn.ensemble import AdaBoostClassifier\n",
        "adaboost = AdaBoostClassifier()\n",
        "adaboost.fit(X_train,y_train)\n",
        "adaboost_pred = adaboost.predict(X_test)"
      ],
      "metadata": {
        "id": "Ox1wrzxEwuSS"
      },
      "execution_count": null,
      "outputs": []
    },
    {
      "cell_type": "code",
      "source": [
        "plot_confusion_matrix(dt_model, X_test,y_test)\n",
        "plt.title(\"Adaptive Boosting Confusion Matrix\")"
      ],
      "metadata": {
        "colab": {
          "base_uri": "https://localhost:8080/",
          "height": 367
        },
        "id": "hvIhhOee2Pa7",
        "outputId": "e3e2c279-0c04-4e36-b87a-ecabe5107e6e"
      },
      "execution_count": null,
      "outputs": [
        {
          "output_type": "stream",
          "name": "stderr",
          "text": [
            "/usr/local/lib/python3.8/dist-packages/sklearn/utils/deprecation.py:87: FutureWarning: Function plot_confusion_matrix is deprecated; Function `plot_confusion_matrix` is deprecated in 1.0 and will be removed in 1.2. Use one of the class methods: ConfusionMatrixDisplay.from_predictions or ConfusionMatrixDisplay.from_estimator.\n",
            "  warnings.warn(msg, category=FutureWarning)\n"
          ]
        },
        {
          "output_type": "execute_result",
          "data": {
            "text/plain": [
              "Text(0.5, 1.0, 'Adaptive Boosting Confusion Matrix')"
            ]
          },
          "metadata": {},
          "execution_count": 80
        },
        {
          "output_type": "display_data",
          "data": {
            "text/plain": [
              "<Figure size 432x288 with 2 Axes>"
            ],
            "image/png": "[encoded data removed]"
          },
          "metadata": {
            "needs_background": "light"
          }
        }
      ]
    },
    {
      "cell_type": "code",
      "source": [
        "print('training accuracy score:', adaboost.score(X_train,y_train))\n",
        "print('testing accuracy score:', adaboost.score(X_test,y_test))"
      ],
      "metadata": {
        "colab": {
          "base_uri": "https://localhost:8080/"
        },
        "id": "-D8NUq1Q2g5R",
        "outputId": "db48f101-56da-4121-dcac-3231b2a5b87b"
      },
      "execution_count": null,
      "outputs": [
        {
          "output_type": "stream",
          "name": "stdout",
          "text": [
            "training accuracy score: 1.0\n",
            "testing accuracy score: 0.9982078853046595\n"
          ]
        }
      ]
    },
    {
      "cell_type": "code",
      "source": [
        "print(classification_report(y_test,adaboost_pred))"
      ],
      "metadata": {
        "colab": {
          "base_uri": "https://localhost:8080/"
        },
        "id": "uVdPYjUi2tVn",
        "outputId": "c22a1bd8-44d6-4c64-c58c-19e07c868392"
      },
      "execution_count": null,
      "outputs": [
        {
          "output_type": "stream",
          "name": "stdout",
          "text": [
            "              precision    recall  f1-score   support\n",
            "\n",
            "           0       1.00      1.00      1.00       341\n",
            "           1       1.00      1.00      1.00       217\n",
            "\n",
            "    accuracy                           1.00       558\n",
            "   macro avg       1.00      1.00      1.00       558\n",
            "weighted avg       1.00      1.00      1.00       558\n",
            "\n"
          ]
        }
      ]
    },
    {
      "cell_type": "code",
      "source": [
        "adaboost_probs = adaboost.predict_proba(X_test) # calculate the probabilities of the class for the test dataset using ‘predict_proba’\n",
        "# generate a positive direction prediction (majority class)\n",
        "ns_probs = [1 for _ in range(len(y_test))]\n",
        "# keep probabilities for the positive direction only\n",
        "adaboost_probs = adaboost_probs[:, 1]\n",
        "# calculate roc curves\n",
        "ns_fpr, ns_tpr, _ = roc_curve(y_test, ns_probs)\n",
        "adaboost_fpr, adaboost_tpr, _ = roc_curve(y_test, adaboost_probs)\n",
        "# plot the roc curve for the model\n",
        "plt.plot(ns_fpr, ns_tpr, linestyle='--', label='No Skill Classifier')\n",
        "plt.plot(adaboost_fpr, adaboost_tpr, marker='.', label='Random Forest Classifier')\n",
        "# axis labels\n",
        "plt.title('ROC Curve')\n",
        "plt.xlabel('False Positive Rate')\n",
        "plt.ylabel('True Positive Rate')\n",
        "# show the legend\n",
        "plt.legend()\n",
        "# show the plot\n",
        "plt.show()"
      ],
      "metadata": {
        "colab": {
          "base_uri": "https://localhost:8080/",
          "height": 295
        },
        "id": "QMToH-5c21Vj",
        "outputId": "ff055502-31bc-498c-af21-6215bf03ef65"
      },
      "execution_count": null,
      "outputs": [
        {
          "output_type": "display_data",
          "data": {
            "text/plain": [
              "<Figure size 432x288 with 1 Axes>"
            ],
            "image/png": "[encoded data removed]"
          },
          "metadata": {
            "needs_background": "light"
          }
        }
      ]
    },
    {
      "cell_type": "code",
      "source": [
        "ns_auc = roc_auc_score(y_test, ns_probs)\n",
        "dt_auc = roc_auc_score(y_test, adaboost_probs)\n",
        "# summarize scores\n",
        "print('No Skill Classifier: ROC AUC=%.3f' % (ns_auc))\n",
        "print('Adaptive Boost Classifier: ROC AUC=%.3f' % (dt_auc))"
      ],
      "metadata": {
        "colab": {
          "base_uri": "https://localhost:8080/"
        },
        "id": "YZuyMqUy3GfR",
        "outputId": "116196fb-01ad-4fc6-8946-42270eb6c34f"
      },
      "execution_count": null,
      "outputs": [
        {
          "output_type": "stream",
          "name": "stdout",
          "text": [
            "No Skill Classifier: ROC AUC=0.500\n",
            "Adaptive Boost Classifier: ROC AUC=1.000\n"
          ]
        }
      ]
    }
  ]
}